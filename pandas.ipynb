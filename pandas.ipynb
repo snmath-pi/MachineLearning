{
 "cells": [
  {
   "cell_type": "code",
   "execution_count": 1,
   "id": "cf7c98f6",
   "metadata": {
    "_cell_guid": "b1076dfc-b9ad-4769-8c92-a6c4dae69d19",
    "_uuid": "8f2839f25d086af736a60e9eeb907d3b93b6e0e5",
    "execution": {
     "iopub.execute_input": "2024-04-03T12:34:02.301812Z",
     "iopub.status.busy": "2024-04-03T12:34:02.300620Z",
     "iopub.status.idle": "2024-04-03T12:34:03.206788Z",
     "shell.execute_reply": "2024-04-03T12:34:03.205354Z"
    },
    "papermill": {
     "duration": 0.922602,
     "end_time": "2024-04-03T12:34:03.209476",
     "exception": false,
     "start_time": "2024-04-03T12:34:02.286874",
     "status": "completed"
    },
    "tags": []
   },
   "outputs": [],
   "source": [
    "import pandas as pd"
   ]
  },
  {
   "cell_type": "code",
   "execution_count": 2,
   "id": "bcc9c836",
   "metadata": {
    "execution": {
     "iopub.execute_input": "2024-04-03T12:34:03.231724Z",
     "iopub.status.busy": "2024-04-03T12:34:03.230464Z",
     "iopub.status.idle": "2024-04-03T12:34:08.727825Z",
     "shell.execute_reply": "2024-04-03T12:34:08.726703Z"
    },
    "papermill": {
     "duration": 5.510912,
     "end_time": "2024-04-03T12:34:08.730598",
     "exception": false,
     "start_time": "2024-04-03T12:34:03.219686",
     "status": "completed"
    },
    "tags": []
   },
   "outputs": [],
   "source": [
    "df = pd.read_csv('/kaggle/input/pandas-ds-manoflearning/survey_results_public.csv')\n",
    "schema_df = pd.read_csv('/kaggle/input/manoflearning-schema/survey_results_schema.csv')"
   ]
  },
  {
   "cell_type": "code",
   "execution_count": 3,
   "id": "b9b02d30",
   "metadata": {
    "execution": {
     "iopub.execute_input": "2024-04-03T12:34:08.750895Z",
     "iopub.status.busy": "2024-04-03T12:34:08.749716Z",
     "iopub.status.idle": "2024-04-03T12:34:08.786508Z",
     "shell.execute_reply": "2024-04-03T12:34:08.785438Z"
    },
    "papermill": {
     "duration": 0.049315,
     "end_time": "2024-04-03T12:34:08.788943",
     "exception": false,
     "start_time": "2024-04-03T12:34:08.739628",
     "status": "completed"
    },
    "tags": []
   },
   "outputs": [
    {
     "data": {
      "text/html": [
       "<div>\n",
       "<style scoped>\n",
       "    .dataframe tbody tr th:only-of-type {\n",
       "        vertical-align: middle;\n",
       "    }\n",
       "\n",
       "    .dataframe tbody tr th {\n",
       "        vertical-align: top;\n",
       "    }\n",
       "\n",
       "    .dataframe thead th {\n",
       "        text-align: right;\n",
       "    }\n",
       "</style>\n",
       "<table border=\"1\" class=\"dataframe\">\n",
       "  <thead>\n",
       "    <tr style=\"text-align: right;\">\n",
       "      <th></th>\n",
       "      <th>Respondent</th>\n",
       "      <th>MainBranch</th>\n",
       "      <th>Hobbyist</th>\n",
       "      <th>OpenSourcer</th>\n",
       "      <th>OpenSource</th>\n",
       "      <th>Employment</th>\n",
       "      <th>Country</th>\n",
       "      <th>Student</th>\n",
       "      <th>EdLevel</th>\n",
       "      <th>UndergradMajor</th>\n",
       "      <th>...</th>\n",
       "      <th>WelcomeChange</th>\n",
       "      <th>SONewContent</th>\n",
       "      <th>Age</th>\n",
       "      <th>Gender</th>\n",
       "      <th>Trans</th>\n",
       "      <th>Sexuality</th>\n",
       "      <th>Ethnicity</th>\n",
       "      <th>Dependents</th>\n",
       "      <th>SurveyLength</th>\n",
       "      <th>SurveyEase</th>\n",
       "    </tr>\n",
       "  </thead>\n",
       "  <tbody>\n",
       "    <tr>\n",
       "      <th>0</th>\n",
       "      <td>1</td>\n",
       "      <td>I am a student who is learning to code</td>\n",
       "      <td>Yes</td>\n",
       "      <td>Never</td>\n",
       "      <td>The quality of OSS and closed source software ...</td>\n",
       "      <td>Not employed, and not looking for work</td>\n",
       "      <td>United Kingdom</td>\n",
       "      <td>No</td>\n",
       "      <td>Primary/elementary school</td>\n",
       "      <td>NaN</td>\n",
       "      <td>...</td>\n",
       "      <td>Just as welcome now as I felt last year</td>\n",
       "      <td>Tech articles written by other developers;Indu...</td>\n",
       "      <td>14.0</td>\n",
       "      <td>Man</td>\n",
       "      <td>No</td>\n",
       "      <td>Straight / Heterosexual</td>\n",
       "      <td>NaN</td>\n",
       "      <td>No</td>\n",
       "      <td>Appropriate in length</td>\n",
       "      <td>Neither easy nor difficult</td>\n",
       "    </tr>\n",
       "    <tr>\n",
       "      <th>1</th>\n",
       "      <td>2</td>\n",
       "      <td>I am a student who is learning to code</td>\n",
       "      <td>No</td>\n",
       "      <td>Less than once per year</td>\n",
       "      <td>The quality of OSS and closed source software ...</td>\n",
       "      <td>Not employed, but looking for work</td>\n",
       "      <td>Bosnia and Herzegovina</td>\n",
       "      <td>Yes, full-time</td>\n",
       "      <td>Secondary school (e.g. American high school, G...</td>\n",
       "      <td>NaN</td>\n",
       "      <td>...</td>\n",
       "      <td>Just as welcome now as I felt last year</td>\n",
       "      <td>Tech articles written by other developers;Indu...</td>\n",
       "      <td>19.0</td>\n",
       "      <td>Man</td>\n",
       "      <td>No</td>\n",
       "      <td>Straight / Heterosexual</td>\n",
       "      <td>NaN</td>\n",
       "      <td>No</td>\n",
       "      <td>Appropriate in length</td>\n",
       "      <td>Neither easy nor difficult</td>\n",
       "    </tr>\n",
       "    <tr>\n",
       "      <th>2</th>\n",
       "      <td>3</td>\n",
       "      <td>I am not primarily a developer, but I write co...</td>\n",
       "      <td>Yes</td>\n",
       "      <td>Never</td>\n",
       "      <td>The quality of OSS and closed source software ...</td>\n",
       "      <td>Employed full-time</td>\n",
       "      <td>Thailand</td>\n",
       "      <td>No</td>\n",
       "      <td>Bachelor’s degree (BA, BS, B.Eng., etc.)</td>\n",
       "      <td>Web development or web design</td>\n",
       "      <td>...</td>\n",
       "      <td>Just as welcome now as I felt last year</td>\n",
       "      <td>Tech meetups or events in your area;Courses on...</td>\n",
       "      <td>28.0</td>\n",
       "      <td>Man</td>\n",
       "      <td>No</td>\n",
       "      <td>Straight / Heterosexual</td>\n",
       "      <td>NaN</td>\n",
       "      <td>Yes</td>\n",
       "      <td>Appropriate in length</td>\n",
       "      <td>Neither easy nor difficult</td>\n",
       "    </tr>\n",
       "    <tr>\n",
       "      <th>3</th>\n",
       "      <td>4</td>\n",
       "      <td>I am a developer by profession</td>\n",
       "      <td>No</td>\n",
       "      <td>Never</td>\n",
       "      <td>The quality of OSS and closed source software ...</td>\n",
       "      <td>Employed full-time</td>\n",
       "      <td>United States</td>\n",
       "      <td>No</td>\n",
       "      <td>Bachelor’s degree (BA, BS, B.Eng., etc.)</td>\n",
       "      <td>Computer science, computer engineering, or sof...</td>\n",
       "      <td>...</td>\n",
       "      <td>Just as welcome now as I felt last year</td>\n",
       "      <td>Tech articles written by other developers;Indu...</td>\n",
       "      <td>22.0</td>\n",
       "      <td>Man</td>\n",
       "      <td>No</td>\n",
       "      <td>Straight / Heterosexual</td>\n",
       "      <td>White or of European descent</td>\n",
       "      <td>No</td>\n",
       "      <td>Appropriate in length</td>\n",
       "      <td>Easy</td>\n",
       "    </tr>\n",
       "    <tr>\n",
       "      <th>4</th>\n",
       "      <td>5</td>\n",
       "      <td>I am a developer by profession</td>\n",
       "      <td>Yes</td>\n",
       "      <td>Once a month or more often</td>\n",
       "      <td>OSS is, on average, of HIGHER quality than pro...</td>\n",
       "      <td>Employed full-time</td>\n",
       "      <td>Ukraine</td>\n",
       "      <td>No</td>\n",
       "      <td>Bachelor’s degree (BA, BS, B.Eng., etc.)</td>\n",
       "      <td>Computer science, computer engineering, or sof...</td>\n",
       "      <td>...</td>\n",
       "      <td>Just as welcome now as I felt last year</td>\n",
       "      <td>Tech meetups or events in your area;Courses on...</td>\n",
       "      <td>30.0</td>\n",
       "      <td>Man</td>\n",
       "      <td>No</td>\n",
       "      <td>Straight / Heterosexual</td>\n",
       "      <td>White or of European descent;Multiracial</td>\n",
       "      <td>No</td>\n",
       "      <td>Appropriate in length</td>\n",
       "      <td>Easy</td>\n",
       "    </tr>\n",
       "  </tbody>\n",
       "</table>\n",
       "<p>5 rows × 85 columns</p>\n",
       "</div>"
      ],
      "text/plain": [
       "   Respondent                                         MainBranch Hobbyist  \\\n",
       "0           1             I am a student who is learning to code      Yes   \n",
       "1           2             I am a student who is learning to code       No   \n",
       "2           3  I am not primarily a developer, but I write co...      Yes   \n",
       "3           4                     I am a developer by profession       No   \n",
       "4           5                     I am a developer by profession      Yes   \n",
       "\n",
       "                  OpenSourcer  \\\n",
       "0                       Never   \n",
       "1     Less than once per year   \n",
       "2                       Never   \n",
       "3                       Never   \n",
       "4  Once a month or more often   \n",
       "\n",
       "                                          OpenSource  \\\n",
       "0  The quality of OSS and closed source software ...   \n",
       "1  The quality of OSS and closed source software ...   \n",
       "2  The quality of OSS and closed source software ...   \n",
       "3  The quality of OSS and closed source software ...   \n",
       "4  OSS is, on average, of HIGHER quality than pro...   \n",
       "\n",
       "                               Employment                 Country  \\\n",
       "0  Not employed, and not looking for work          United Kingdom   \n",
       "1      Not employed, but looking for work  Bosnia and Herzegovina   \n",
       "2                      Employed full-time                Thailand   \n",
       "3                      Employed full-time           United States   \n",
       "4                      Employed full-time                 Ukraine   \n",
       "\n",
       "          Student                                            EdLevel  \\\n",
       "0              No                          Primary/elementary school   \n",
       "1  Yes, full-time  Secondary school (e.g. American high school, G...   \n",
       "2              No           Bachelor’s degree (BA, BS, B.Eng., etc.)   \n",
       "3              No           Bachelor’s degree (BA, BS, B.Eng., etc.)   \n",
       "4              No           Bachelor’s degree (BA, BS, B.Eng., etc.)   \n",
       "\n",
       "                                      UndergradMajor  ...  \\\n",
       "0                                                NaN  ...   \n",
       "1                                                NaN  ...   \n",
       "2                      Web development or web design  ...   \n",
       "3  Computer science, computer engineering, or sof...  ...   \n",
       "4  Computer science, computer engineering, or sof...  ...   \n",
       "\n",
       "                             WelcomeChange  \\\n",
       "0  Just as welcome now as I felt last year   \n",
       "1  Just as welcome now as I felt last year   \n",
       "2  Just as welcome now as I felt last year   \n",
       "3  Just as welcome now as I felt last year   \n",
       "4  Just as welcome now as I felt last year   \n",
       "\n",
       "                                        SONewContent   Age Gender Trans  \\\n",
       "0  Tech articles written by other developers;Indu...  14.0    Man    No   \n",
       "1  Tech articles written by other developers;Indu...  19.0    Man    No   \n",
       "2  Tech meetups or events in your area;Courses on...  28.0    Man    No   \n",
       "3  Tech articles written by other developers;Indu...  22.0    Man    No   \n",
       "4  Tech meetups or events in your area;Courses on...  30.0    Man    No   \n",
       "\n",
       "                 Sexuality                                 Ethnicity  \\\n",
       "0  Straight / Heterosexual                                       NaN   \n",
       "1  Straight / Heterosexual                                       NaN   \n",
       "2  Straight / Heterosexual                                       NaN   \n",
       "3  Straight / Heterosexual              White or of European descent   \n",
       "4  Straight / Heterosexual  White or of European descent;Multiracial   \n",
       "\n",
       "  Dependents           SurveyLength                  SurveyEase  \n",
       "0         No  Appropriate in length  Neither easy nor difficult  \n",
       "1         No  Appropriate in length  Neither easy nor difficult  \n",
       "2        Yes  Appropriate in length  Neither easy nor difficult  \n",
       "3         No  Appropriate in length                        Easy  \n",
       "4         No  Appropriate in length                        Easy  \n",
       "\n",
       "[5 rows x 85 columns]"
      ]
     },
     "execution_count": 3,
     "metadata": {},
     "output_type": "execute_result"
    }
   ],
   "source": [
    "df.head()"
   ]
  },
  {
   "cell_type": "code",
   "execution_count": 4,
   "id": "1c0b39ba",
   "metadata": {
    "execution": {
     "iopub.execute_input": "2024-04-03T12:34:08.810904Z",
     "iopub.status.busy": "2024-04-03T12:34:08.809696Z",
     "iopub.status.idle": "2024-04-03T12:34:08.816369Z",
     "shell.execute_reply": "2024-04-03T12:34:08.815433Z"
    },
    "papermill": {
     "duration": 0.019421,
     "end_time": "2024-04-03T12:34:08.818555",
     "exception": false,
     "start_time": "2024-04-03T12:34:08.799134",
     "status": "completed"
    },
    "tags": []
   },
   "outputs": [
    {
     "data": {
      "text/plain": [
       "(88883, 85)"
      ]
     },
     "execution_count": 4,
     "metadata": {},
     "output_type": "execute_result"
    }
   ],
   "source": [
    "df.shape"
   ]
  },
  {
   "cell_type": "code",
   "execution_count": 5,
   "id": "d37442e7",
   "metadata": {
    "execution": {
     "iopub.execute_input": "2024-04-03T12:34:08.840691Z",
     "iopub.status.busy": "2024-04-03T12:34:08.839563Z",
     "iopub.status.idle": "2024-04-03T12:34:08.843962Z",
     "shell.execute_reply": "2024-04-03T12:34:08.843156Z"
    },
    "papermill": {
     "duration": 0.017025,
     "end_time": "2024-04-03T12:34:08.845997",
     "exception": false,
     "start_time": "2024-04-03T12:34:08.828972",
     "status": "completed"
    },
    "tags": []
   },
   "outputs": [],
   "source": [
    "# df.info()"
   ]
  },
  {
   "cell_type": "code",
   "execution_count": 6,
   "id": "ca6d9d03",
   "metadata": {
    "execution": {
     "iopub.execute_input": "2024-04-03T12:34:08.867124Z",
     "iopub.status.busy": "2024-04-03T12:34:08.866002Z",
     "iopub.status.idle": "2024-04-03T12:34:08.870326Z",
     "shell.execute_reply": "2024-04-03T12:34:08.869532Z"
    },
    "papermill": {
     "duration": 0.017026,
     "end_time": "2024-04-03T12:34:08.872461",
     "exception": false,
     "start_time": "2024-04-03T12:34:08.855435",
     "status": "completed"
    },
    "tags": []
   },
   "outputs": [],
   "source": [
    "# pd.set_option('display.max_columns', 85) to see more number of columns\n",
    "# df"
   ]
  },
  {
   "cell_type": "code",
   "execution_count": 7,
   "id": "ee9b500f",
   "metadata": {
    "execution": {
     "iopub.execute_input": "2024-04-03T12:34:08.893609Z",
     "iopub.status.busy": "2024-04-03T12:34:08.892445Z",
     "iopub.status.idle": "2024-04-03T12:34:08.896970Z",
     "shell.execute_reply": "2024-04-03T12:34:08.896068Z"
    },
    "papermill": {
     "duration": 0.017292,
     "end_time": "2024-04-03T12:34:08.899206",
     "exception": false,
     "start_time": "2024-04-03T12:34:08.881914",
     "status": "completed"
    },
    "tags": []
   },
   "outputs": [],
   "source": [
    "# schema_df\n",
    "# pd.set_option('display.max_rows', 85)\n",
    "# schema_df"
   ]
  },
  {
   "cell_type": "code",
   "execution_count": 8,
   "id": "5f51a10d",
   "metadata": {
    "execution": {
     "iopub.execute_input": "2024-04-03T12:34:08.920549Z",
     "iopub.status.busy": "2024-04-03T12:34:08.919777Z",
     "iopub.status.idle": "2024-04-03T12:34:08.944308Z",
     "shell.execute_reply": "2024-04-03T12:34:08.943080Z"
    },
    "papermill": {
     "duration": 0.038208,
     "end_time": "2024-04-03T12:34:08.947043",
     "exception": false,
     "start_time": "2024-04-03T12:34:08.908835",
     "status": "completed"
    },
    "tags": []
   },
   "outputs": [
    {
     "data": {
      "text/html": [
       "<div>\n",
       "<style scoped>\n",
       "    .dataframe tbody tr th:only-of-type {\n",
       "        vertical-align: middle;\n",
       "    }\n",
       "\n",
       "    .dataframe tbody tr th {\n",
       "        vertical-align: top;\n",
       "    }\n",
       "\n",
       "    .dataframe thead th {\n",
       "        text-align: right;\n",
       "    }\n",
       "</style>\n",
       "<table border=\"1\" class=\"dataframe\">\n",
       "  <thead>\n",
       "    <tr style=\"text-align: right;\">\n",
       "      <th></th>\n",
       "      <th>Respondent</th>\n",
       "      <th>MainBranch</th>\n",
       "      <th>Hobbyist</th>\n",
       "      <th>OpenSourcer</th>\n",
       "      <th>OpenSource</th>\n",
       "      <th>Employment</th>\n",
       "      <th>Country</th>\n",
       "      <th>Student</th>\n",
       "      <th>EdLevel</th>\n",
       "      <th>UndergradMajor</th>\n",
       "      <th>...</th>\n",
       "      <th>WelcomeChange</th>\n",
       "      <th>SONewContent</th>\n",
       "      <th>Age</th>\n",
       "      <th>Gender</th>\n",
       "      <th>Trans</th>\n",
       "      <th>Sexuality</th>\n",
       "      <th>Ethnicity</th>\n",
       "      <th>Dependents</th>\n",
       "      <th>SurveyLength</th>\n",
       "      <th>SurveyEase</th>\n",
       "    </tr>\n",
       "  </thead>\n",
       "  <tbody>\n",
       "    <tr>\n",
       "      <th>88876</th>\n",
       "      <td>88212</td>\n",
       "      <td>NaN</td>\n",
       "      <td>No</td>\n",
       "      <td>Less than once per year</td>\n",
       "      <td>OSS is, on average, of HIGHER quality than pro...</td>\n",
       "      <td>Employed full-time</td>\n",
       "      <td>Spain</td>\n",
       "      <td>No</td>\n",
       "      <td>Secondary school (e.g. American high school, G...</td>\n",
       "      <td>NaN</td>\n",
       "      <td>...</td>\n",
       "      <td>NaN</td>\n",
       "      <td>Tech articles written by other developers;Indu...</td>\n",
       "      <td>40.0</td>\n",
       "      <td>Man</td>\n",
       "      <td>No</td>\n",
       "      <td>Straight / Heterosexual</td>\n",
       "      <td>White or of European descent</td>\n",
       "      <td>No</td>\n",
       "      <td>Appropriate in length</td>\n",
       "      <td>Easy</td>\n",
       "    </tr>\n",
       "    <tr>\n",
       "      <th>88877</th>\n",
       "      <td>88282</td>\n",
       "      <td>NaN</td>\n",
       "      <td>Yes</td>\n",
       "      <td>Once a month or more often</td>\n",
       "      <td>The quality of OSS and closed source software ...</td>\n",
       "      <td>Not employed, but looking for work</td>\n",
       "      <td>United States</td>\n",
       "      <td>No</td>\n",
       "      <td>Some college/university study without earning ...</td>\n",
       "      <td>Computer science, computer engineering, or sof...</td>\n",
       "      <td>...</td>\n",
       "      <td>Just as welcome now as I felt last year</td>\n",
       "      <td>NaN</td>\n",
       "      <td>NaN</td>\n",
       "      <td>Man</td>\n",
       "      <td>No</td>\n",
       "      <td>Straight / Heterosexual</td>\n",
       "      <td>NaN</td>\n",
       "      <td>No</td>\n",
       "      <td>Too short</td>\n",
       "      <td>Neither easy nor difficult</td>\n",
       "    </tr>\n",
       "    <tr>\n",
       "      <th>88878</th>\n",
       "      <td>88377</td>\n",
       "      <td>NaN</td>\n",
       "      <td>Yes</td>\n",
       "      <td>Less than once a month but more than once per ...</td>\n",
       "      <td>The quality of OSS and closed source software ...</td>\n",
       "      <td>Not employed, and not looking for work</td>\n",
       "      <td>Canada</td>\n",
       "      <td>No</td>\n",
       "      <td>Primary/elementary school</td>\n",
       "      <td>NaN</td>\n",
       "      <td>...</td>\n",
       "      <td>NaN</td>\n",
       "      <td>Tech articles written by other developers;Tech...</td>\n",
       "      <td>NaN</td>\n",
       "      <td>Man</td>\n",
       "      <td>No</td>\n",
       "      <td>NaN</td>\n",
       "      <td>NaN</td>\n",
       "      <td>No</td>\n",
       "      <td>Appropriate in length</td>\n",
       "      <td>Easy</td>\n",
       "    </tr>\n",
       "    <tr>\n",
       "      <th>88879</th>\n",
       "      <td>88601</td>\n",
       "      <td>NaN</td>\n",
       "      <td>No</td>\n",
       "      <td>Never</td>\n",
       "      <td>The quality of OSS and closed source software ...</td>\n",
       "      <td>NaN</td>\n",
       "      <td>NaN</td>\n",
       "      <td>NaN</td>\n",
       "      <td>NaN</td>\n",
       "      <td>NaN</td>\n",
       "      <td>...</td>\n",
       "      <td>NaN</td>\n",
       "      <td>NaN</td>\n",
       "      <td>NaN</td>\n",
       "      <td>NaN</td>\n",
       "      <td>NaN</td>\n",
       "      <td>NaN</td>\n",
       "      <td>NaN</td>\n",
       "      <td>NaN</td>\n",
       "      <td>NaN</td>\n",
       "      <td>NaN</td>\n",
       "    </tr>\n",
       "    <tr>\n",
       "      <th>88880</th>\n",
       "      <td>88802</td>\n",
       "      <td>NaN</td>\n",
       "      <td>No</td>\n",
       "      <td>Never</td>\n",
       "      <td>NaN</td>\n",
       "      <td>Employed full-time</td>\n",
       "      <td>NaN</td>\n",
       "      <td>NaN</td>\n",
       "      <td>NaN</td>\n",
       "      <td>NaN</td>\n",
       "      <td>...</td>\n",
       "      <td>NaN</td>\n",
       "      <td>NaN</td>\n",
       "      <td>NaN</td>\n",
       "      <td>NaN</td>\n",
       "      <td>NaN</td>\n",
       "      <td>NaN</td>\n",
       "      <td>NaN</td>\n",
       "      <td>NaN</td>\n",
       "      <td>NaN</td>\n",
       "      <td>NaN</td>\n",
       "    </tr>\n",
       "    <tr>\n",
       "      <th>88881</th>\n",
       "      <td>88816</td>\n",
       "      <td>NaN</td>\n",
       "      <td>No</td>\n",
       "      <td>Never</td>\n",
       "      <td>OSS is, on average, of HIGHER quality than pro...</td>\n",
       "      <td>Independent contractor, freelancer, or self-em...</td>\n",
       "      <td>NaN</td>\n",
       "      <td>NaN</td>\n",
       "      <td>NaN</td>\n",
       "      <td>NaN</td>\n",
       "      <td>...</td>\n",
       "      <td>NaN</td>\n",
       "      <td>NaN</td>\n",
       "      <td>NaN</td>\n",
       "      <td>NaN</td>\n",
       "      <td>NaN</td>\n",
       "      <td>NaN</td>\n",
       "      <td>NaN</td>\n",
       "      <td>NaN</td>\n",
       "      <td>NaN</td>\n",
       "      <td>NaN</td>\n",
       "    </tr>\n",
       "    <tr>\n",
       "      <th>88882</th>\n",
       "      <td>88863</td>\n",
       "      <td>NaN</td>\n",
       "      <td>Yes</td>\n",
       "      <td>Less than once per year</td>\n",
       "      <td>OSS is, on average, of HIGHER quality than pro...</td>\n",
       "      <td>Not employed, and not looking for work</td>\n",
       "      <td>Spain</td>\n",
       "      <td>Yes, full-time</td>\n",
       "      <td>Professional degree (JD, MD, etc.)</td>\n",
       "      <td>Computer science, computer engineering, or sof...</td>\n",
       "      <td>...</td>\n",
       "      <td>Somewhat less welcome now than last year</td>\n",
       "      <td>Tech articles written by other developers;Indu...</td>\n",
       "      <td>18.0</td>\n",
       "      <td>Man</td>\n",
       "      <td>No</td>\n",
       "      <td>Straight / Heterosexual</td>\n",
       "      <td>Hispanic or Latino/Latina;White or of European...</td>\n",
       "      <td>No</td>\n",
       "      <td>Appropriate in length</td>\n",
       "      <td>Easy</td>\n",
       "    </tr>\n",
       "  </tbody>\n",
       "</table>\n",
       "<p>7 rows × 85 columns</p>\n",
       "</div>"
      ],
      "text/plain": [
       "       Respondent MainBranch Hobbyist  \\\n",
       "88876       88212        NaN       No   \n",
       "88877       88282        NaN      Yes   \n",
       "88878       88377        NaN      Yes   \n",
       "88879       88601        NaN       No   \n",
       "88880       88802        NaN       No   \n",
       "88881       88816        NaN       No   \n",
       "88882       88863        NaN      Yes   \n",
       "\n",
       "                                             OpenSourcer  \\\n",
       "88876                            Less than once per year   \n",
       "88877                         Once a month or more often   \n",
       "88878  Less than once a month but more than once per ...   \n",
       "88879                                              Never   \n",
       "88880                                              Never   \n",
       "88881                                              Never   \n",
       "88882                            Less than once per year   \n",
       "\n",
       "                                              OpenSource  \\\n",
       "88876  OSS is, on average, of HIGHER quality than pro...   \n",
       "88877  The quality of OSS and closed source software ...   \n",
       "88878  The quality of OSS and closed source software ...   \n",
       "88879  The quality of OSS and closed source software ...   \n",
       "88880                                                NaN   \n",
       "88881  OSS is, on average, of HIGHER quality than pro...   \n",
       "88882  OSS is, on average, of HIGHER quality than pro...   \n",
       "\n",
       "                                              Employment        Country  \\\n",
       "88876                                 Employed full-time          Spain   \n",
       "88877                 Not employed, but looking for work  United States   \n",
       "88878             Not employed, and not looking for work         Canada   \n",
       "88879                                                NaN            NaN   \n",
       "88880                                 Employed full-time            NaN   \n",
       "88881  Independent contractor, freelancer, or self-em...            NaN   \n",
       "88882             Not employed, and not looking for work          Spain   \n",
       "\n",
       "              Student                                            EdLevel  \\\n",
       "88876              No  Secondary school (e.g. American high school, G...   \n",
       "88877              No  Some college/university study without earning ...   \n",
       "88878              No                          Primary/elementary school   \n",
       "88879             NaN                                                NaN   \n",
       "88880             NaN                                                NaN   \n",
       "88881             NaN                                                NaN   \n",
       "88882  Yes, full-time                 Professional degree (JD, MD, etc.)   \n",
       "\n",
       "                                          UndergradMajor  ...  \\\n",
       "88876                                                NaN  ...   \n",
       "88877  Computer science, computer engineering, or sof...  ...   \n",
       "88878                                                NaN  ...   \n",
       "88879                                                NaN  ...   \n",
       "88880                                                NaN  ...   \n",
       "88881                                                NaN  ...   \n",
       "88882  Computer science, computer engineering, or sof...  ...   \n",
       "\n",
       "                                  WelcomeChange  \\\n",
       "88876                                       NaN   \n",
       "88877   Just as welcome now as I felt last year   \n",
       "88878                                       NaN   \n",
       "88879                                       NaN   \n",
       "88880                                       NaN   \n",
       "88881                                       NaN   \n",
       "88882  Somewhat less welcome now than last year   \n",
       "\n",
       "                                            SONewContent   Age Gender Trans  \\\n",
       "88876  Tech articles written by other developers;Indu...  40.0    Man    No   \n",
       "88877                                                NaN   NaN    Man    No   \n",
       "88878  Tech articles written by other developers;Tech...   NaN    Man    No   \n",
       "88879                                                NaN   NaN    NaN   NaN   \n",
       "88880                                                NaN   NaN    NaN   NaN   \n",
       "88881                                                NaN   NaN    NaN   NaN   \n",
       "88882  Tech articles written by other developers;Indu...  18.0    Man    No   \n",
       "\n",
       "                     Sexuality  \\\n",
       "88876  Straight / Heterosexual   \n",
       "88877  Straight / Heterosexual   \n",
       "88878                      NaN   \n",
       "88879                      NaN   \n",
       "88880                      NaN   \n",
       "88881                      NaN   \n",
       "88882  Straight / Heterosexual   \n",
       "\n",
       "                                               Ethnicity Dependents  \\\n",
       "88876                       White or of European descent         No   \n",
       "88877                                                NaN         No   \n",
       "88878                                                NaN         No   \n",
       "88879                                                NaN        NaN   \n",
       "88880                                                NaN        NaN   \n",
       "88881                                                NaN        NaN   \n",
       "88882  Hispanic or Latino/Latina;White or of European...         No   \n",
       "\n",
       "                SurveyLength                  SurveyEase  \n",
       "88876  Appropriate in length                        Easy  \n",
       "88877              Too short  Neither easy nor difficult  \n",
       "88878  Appropriate in length                        Easy  \n",
       "88879                    NaN                         NaN  \n",
       "88880                    NaN                         NaN  \n",
       "88881                    NaN                         NaN  \n",
       "88882  Appropriate in length                        Easy  \n",
       "\n",
       "[7 rows x 85 columns]"
      ]
     },
     "execution_count": 8,
     "metadata": {},
     "output_type": "execute_result"
    }
   ],
   "source": [
    "df.tail(7)"
   ]
  },
  {
   "cell_type": "code",
   "execution_count": 9,
   "id": "684ed948",
   "metadata": {
    "execution": {
     "iopub.execute_input": "2024-04-03T12:34:08.969980Z",
     "iopub.status.busy": "2024-04-03T12:34:08.969565Z",
     "iopub.status.idle": "2024-04-03T12:34:08.976274Z",
     "shell.execute_reply": "2024-04-03T12:34:08.974789Z"
    },
    "papermill": {
     "duration": 0.020769,
     "end_time": "2024-04-03T12:34:08.978925",
     "exception": false,
     "start_time": "2024-04-03T12:34:08.958156",
     "status": "completed"
    },
    "tags": []
   },
   "outputs": [],
   "source": [
    "person = {\n",
    "    \"first\": \"Corey\", \n",
    "    \"last\": \"Schafer\", \n",
    "    \"email\": \"CoreyMSchafer@gmail.com\"\n",
    "}\n",
    "\n",
    "people = {\n",
    "    \"first\": [\"Corey\", 'Jane', 'John'], \n",
    "    \"last\": [\"Schafer\", 'Doe', 'Doe'], \n",
    "    \"email\": [\"CoreyMSchafer@gmail.com\", 'JaneDoe@email.com', 'JohnDoe@email.com']\n",
    "}"
   ]
  },
  {
   "cell_type": "code",
   "execution_count": 10,
   "id": "399e5a22",
   "metadata": {
    "execution": {
     "iopub.execute_input": "2024-04-03T12:34:09.005801Z",
     "iopub.status.busy": "2024-04-03T12:34:09.005377Z",
     "iopub.status.idle": "2024-04-03T12:34:09.017990Z",
     "shell.execute_reply": "2024-04-03T12:34:09.016696Z"
    },
    "papermill": {
     "duration": 0.030468,
     "end_time": "2024-04-03T12:34:09.020292",
     "exception": false,
     "start_time": "2024-04-03T12:34:08.989824",
     "status": "completed"
    },
    "tags": []
   },
   "outputs": [
    {
     "data": {
      "text/html": [
       "<div>\n",
       "<style scoped>\n",
       "    .dataframe tbody tr th:only-of-type {\n",
       "        vertical-align: middle;\n",
       "    }\n",
       "\n",
       "    .dataframe tbody tr th {\n",
       "        vertical-align: top;\n",
       "    }\n",
       "\n",
       "    .dataframe thead th {\n",
       "        text-align: right;\n",
       "    }\n",
       "</style>\n",
       "<table border=\"1\" class=\"dataframe\">\n",
       "  <thead>\n",
       "    <tr style=\"text-align: right;\">\n",
       "      <th></th>\n",
       "      <th>first</th>\n",
       "      <th>last</th>\n",
       "      <th>email</th>\n",
       "    </tr>\n",
       "  </thead>\n",
       "  <tbody>\n",
       "    <tr>\n",
       "      <th>0</th>\n",
       "      <td>Corey</td>\n",
       "      <td>Schafer</td>\n",
       "      <td>CoreyMSchafer@gmail.com</td>\n",
       "    </tr>\n",
       "    <tr>\n",
       "      <th>1</th>\n",
       "      <td>Jane</td>\n",
       "      <td>Doe</td>\n",
       "      <td>JaneDoe@email.com</td>\n",
       "    </tr>\n",
       "    <tr>\n",
       "      <th>2</th>\n",
       "      <td>John</td>\n",
       "      <td>Doe</td>\n",
       "      <td>JohnDoe@email.com</td>\n",
       "    </tr>\n",
       "  </tbody>\n",
       "</table>\n",
       "</div>"
      ],
      "text/plain": [
       "   first     last                    email\n",
       "0  Corey  Schafer  CoreyMSchafer@gmail.com\n",
       "1   Jane      Doe        JaneDoe@email.com\n",
       "2   John      Doe        JohnDoe@email.com"
      ]
     },
     "execution_count": 10,
     "metadata": {},
     "output_type": "execute_result"
    }
   ],
   "source": [
    "df = pd.DataFrame(people)\n",
    "df"
   ]
  },
  {
   "cell_type": "code",
   "execution_count": 11,
   "id": "81ff6960",
   "metadata": {
    "execution": {
     "iopub.execute_input": "2024-04-03T12:34:09.048577Z",
     "iopub.status.busy": "2024-04-03T12:34:09.047555Z",
     "iopub.status.idle": "2024-04-03T12:34:09.057548Z",
     "shell.execute_reply": "2024-04-03T12:34:09.056351Z"
    },
    "papermill": {
     "duration": 0.026309,
     "end_time": "2024-04-03T12:34:09.059914",
     "exception": false,
     "start_time": "2024-04-03T12:34:09.033605",
     "status": "completed"
    },
    "tags": []
   },
   "outputs": [
    {
     "data": {
      "text/plain": [
       "0    CoreyMSchafer@gmail.com\n",
       "1          JaneDoe@email.com\n",
       "2          JohnDoe@email.com\n",
       "Name: email, dtype: object"
      ]
     },
     "execution_count": 11,
     "metadata": {},
     "output_type": "execute_result"
    }
   ],
   "source": [
    "df['email']"
   ]
  },
  {
   "cell_type": "code",
   "execution_count": 12,
   "id": "7e5e26c1",
   "metadata": {
    "execution": {
     "iopub.execute_input": "2024-04-03T12:34:09.082572Z",
     "iopub.status.busy": "2024-04-03T12:34:09.081801Z",
     "iopub.status.idle": "2024-04-03T12:34:09.088874Z",
     "shell.execute_reply": "2024-04-03T12:34:09.087984Z"
    },
    "papermill": {
     "duration": 0.020835,
     "end_time": "2024-04-03T12:34:09.090924",
     "exception": false,
     "start_time": "2024-04-03T12:34:09.070089",
     "status": "completed"
    },
    "tags": []
   },
   "outputs": [
    {
     "data": {
      "text/plain": [
       "pandas.core.series.Series"
      ]
     },
     "execution_count": 12,
     "metadata": {},
     "output_type": "execute_result"
    }
   ],
   "source": [
    "type(df['email'])"
   ]
  },
  {
   "cell_type": "code",
   "execution_count": 13,
   "id": "650d09e4",
   "metadata": {
    "execution": {
     "iopub.execute_input": "2024-04-03T12:34:09.113896Z",
     "iopub.status.busy": "2024-04-03T12:34:09.113248Z",
     "iopub.status.idle": "2024-04-03T12:34:09.121901Z",
     "shell.execute_reply": "2024-04-03T12:34:09.120367Z"
    },
    "papermill": {
     "duration": 0.023033,
     "end_time": "2024-04-03T12:34:09.124372",
     "exception": false,
     "start_time": "2024-04-03T12:34:09.101339",
     "status": "completed"
    },
    "tags": []
   },
   "outputs": [
    {
     "data": {
      "text/plain": [
       "0    CoreyMSchafer@gmail.com\n",
       "1          JaneDoe@email.com\n",
       "2          JohnDoe@email.com\n",
       "Name: email, dtype: object"
      ]
     },
     "execution_count": 13,
     "metadata": {},
     "output_type": "execute_result"
    }
   ],
   "source": [
    "df.email"
   ]
  },
  {
   "cell_type": "code",
   "execution_count": 14,
   "id": "e010baf1",
   "metadata": {
    "execution": {
     "iopub.execute_input": "2024-04-03T12:34:09.151269Z",
     "iopub.status.busy": "2024-04-03T12:34:09.150570Z",
     "iopub.status.idle": "2024-04-03T12:34:09.162117Z",
     "shell.execute_reply": "2024-04-03T12:34:09.161010Z"
    },
    "papermill": {
     "duration": 0.028693,
     "end_time": "2024-04-03T12:34:09.164997",
     "exception": false,
     "start_time": "2024-04-03T12:34:09.136304",
     "status": "completed"
    },
    "tags": []
   },
   "outputs": [
    {
     "data": {
      "text/html": [
       "<div>\n",
       "<style scoped>\n",
       "    .dataframe tbody tr th:only-of-type {\n",
       "        vertical-align: middle;\n",
       "    }\n",
       "\n",
       "    .dataframe tbody tr th {\n",
       "        vertical-align: top;\n",
       "    }\n",
       "\n",
       "    .dataframe thead th {\n",
       "        text-align: right;\n",
       "    }\n",
       "</style>\n",
       "<table border=\"1\" class=\"dataframe\">\n",
       "  <thead>\n",
       "    <tr style=\"text-align: right;\">\n",
       "      <th></th>\n",
       "      <th>last</th>\n",
       "      <th>email</th>\n",
       "    </tr>\n",
       "  </thead>\n",
       "  <tbody>\n",
       "    <tr>\n",
       "      <th>0</th>\n",
       "      <td>Schafer</td>\n",
       "      <td>CoreyMSchafer@gmail.com</td>\n",
       "    </tr>\n",
       "    <tr>\n",
       "      <th>1</th>\n",
       "      <td>Doe</td>\n",
       "      <td>JaneDoe@email.com</td>\n",
       "    </tr>\n",
       "    <tr>\n",
       "      <th>2</th>\n",
       "      <td>Doe</td>\n",
       "      <td>JohnDoe@email.com</td>\n",
       "    </tr>\n",
       "  </tbody>\n",
       "</table>\n",
       "</div>"
      ],
      "text/plain": [
       "      last                    email\n",
       "0  Schafer  CoreyMSchafer@gmail.com\n",
       "1      Doe        JaneDoe@email.com\n",
       "2      Doe        JohnDoe@email.com"
      ]
     },
     "execution_count": 14,
     "metadata": {},
     "output_type": "execute_result"
    }
   ],
   "source": [
    "df[['last', 'email']]"
   ]
  },
  {
   "cell_type": "code",
   "execution_count": 15,
   "id": "9cdaaa56",
   "metadata": {
    "execution": {
     "iopub.execute_input": "2024-04-03T12:34:09.194045Z",
     "iopub.status.busy": "2024-04-03T12:34:09.193604Z",
     "iopub.status.idle": "2024-04-03T12:34:09.200535Z",
     "shell.execute_reply": "2024-04-03T12:34:09.199470Z"
    },
    "papermill": {
     "duration": 0.02476,
     "end_time": "2024-04-03T12:34:09.202856",
     "exception": false,
     "start_time": "2024-04-03T12:34:09.178096",
     "status": "completed"
    },
    "tags": []
   },
   "outputs": [
    {
     "data": {
      "text/plain": [
       "Index(['first', 'last', 'email'], dtype='object')"
      ]
     },
     "execution_count": 15,
     "metadata": {},
     "output_type": "execute_result"
    }
   ],
   "source": [
    "df.columns"
   ]
  },
  {
   "cell_type": "code",
   "execution_count": 16,
   "id": "e9f20e89",
   "metadata": {
    "execution": {
     "iopub.execute_input": "2024-04-03T12:34:09.225971Z",
     "iopub.status.busy": "2024-04-03T12:34:09.225501Z",
     "iopub.status.idle": "2024-04-03T12:34:09.233898Z",
     "shell.execute_reply": "2024-04-03T12:34:09.232792Z"
    },
    "papermill": {
     "duration": 0.022695,
     "end_time": "2024-04-03T12:34:09.236218",
     "exception": false,
     "start_time": "2024-04-03T12:34:09.213523",
     "status": "completed"
    },
    "tags": []
   },
   "outputs": [
    {
     "data": {
      "text/plain": [
       "first                      Corey\n",
       "last                     Schafer\n",
       "email    CoreyMSchafer@gmail.com\n",
       "Name: 0, dtype: object"
      ]
     },
     "execution_count": 16,
     "metadata": {},
     "output_type": "execute_result"
    }
   ],
   "source": [
    "df.iloc[0] #searching by integer location"
   ]
  },
  {
   "cell_type": "code",
   "execution_count": 17,
   "id": "861a17d7",
   "metadata": {
    "execution": {
     "iopub.execute_input": "2024-04-03T12:34:09.260085Z",
     "iopub.status.busy": "2024-04-03T12:34:09.259004Z",
     "iopub.status.idle": "2024-04-03T12:34:09.270595Z",
     "shell.execute_reply": "2024-04-03T12:34:09.269813Z"
    },
    "papermill": {
     "duration": 0.025658,
     "end_time": "2024-04-03T12:34:09.272717",
     "exception": false,
     "start_time": "2024-04-03T12:34:09.247059",
     "status": "completed"
    },
    "tags": []
   },
   "outputs": [
    {
     "data": {
      "text/html": [
       "<div>\n",
       "<style scoped>\n",
       "    .dataframe tbody tr th:only-of-type {\n",
       "        vertical-align: middle;\n",
       "    }\n",
       "\n",
       "    .dataframe tbody tr th {\n",
       "        vertical-align: top;\n",
       "    }\n",
       "\n",
       "    .dataframe thead th {\n",
       "        text-align: right;\n",
       "    }\n",
       "</style>\n",
       "<table border=\"1\" class=\"dataframe\">\n",
       "  <thead>\n",
       "    <tr style=\"text-align: right;\">\n",
       "      <th></th>\n",
       "      <th>first</th>\n",
       "      <th>last</th>\n",
       "      <th>email</th>\n",
       "    </tr>\n",
       "  </thead>\n",
       "  <tbody>\n",
       "    <tr>\n",
       "      <th>0</th>\n",
       "      <td>Corey</td>\n",
       "      <td>Schafer</td>\n",
       "      <td>CoreyMSchafer@gmail.com</td>\n",
       "    </tr>\n",
       "    <tr>\n",
       "      <th>1</th>\n",
       "      <td>Jane</td>\n",
       "      <td>Doe</td>\n",
       "      <td>JaneDoe@email.com</td>\n",
       "    </tr>\n",
       "  </tbody>\n",
       "</table>\n",
       "</div>"
      ],
      "text/plain": [
       "   first     last                    email\n",
       "0  Corey  Schafer  CoreyMSchafer@gmail.com\n",
       "1   Jane      Doe        JaneDoe@email.com"
      ]
     },
     "execution_count": 17,
     "metadata": {},
     "output_type": "execute_result"
    }
   ],
   "source": [
    "df.iloc[[0, 1]]"
   ]
  },
  {
   "cell_type": "code",
   "execution_count": 18,
   "id": "ff7fb6ee",
   "metadata": {
    "execution": {
     "iopub.execute_input": "2024-04-03T12:34:09.296910Z",
     "iopub.status.busy": "2024-04-03T12:34:09.296177Z",
     "iopub.status.idle": "2024-04-03T12:34:09.304966Z",
     "shell.execute_reply": "2024-04-03T12:34:09.303521Z"
    },
    "papermill": {
     "duration": 0.023702,
     "end_time": "2024-04-03T12:34:09.307258",
     "exception": false,
     "start_time": "2024-04-03T12:34:09.283556",
     "status": "completed"
    },
    "tags": []
   },
   "outputs": [
    {
     "data": {
      "text/plain": [
       "0    CoreyMSchafer@gmail.com\n",
       "1          JaneDoe@email.com\n",
       "Name: email, dtype: object"
      ]
     },
     "execution_count": 18,
     "metadata": {},
     "output_type": "execute_result"
    }
   ],
   "source": [
    "df.iloc[[0, 1], 2]"
   ]
  },
  {
   "cell_type": "code",
   "execution_count": 19,
   "id": "837796ce",
   "metadata": {
    "execution": {
     "iopub.execute_input": "2024-04-03T12:34:09.331648Z",
     "iopub.status.busy": "2024-04-03T12:34:09.331229Z",
     "iopub.status.idle": "2024-04-03T12:34:09.340700Z",
     "shell.execute_reply": "2024-04-03T12:34:09.339843Z"
    },
    "papermill": {
     "duration": 0.024046,
     "end_time": "2024-04-03T12:34:09.342685",
     "exception": false,
     "start_time": "2024-04-03T12:34:09.318639",
     "status": "completed"
    },
    "tags": []
   },
   "outputs": [
    {
     "data": {
      "text/html": [
       "<div>\n",
       "<style scoped>\n",
       "    .dataframe tbody tr th:only-of-type {\n",
       "        vertical-align: middle;\n",
       "    }\n",
       "\n",
       "    .dataframe tbody tr th {\n",
       "        vertical-align: top;\n",
       "    }\n",
       "\n",
       "    .dataframe thead th {\n",
       "        text-align: right;\n",
       "    }\n",
       "</style>\n",
       "<table border=\"1\" class=\"dataframe\">\n",
       "  <thead>\n",
       "    <tr style=\"text-align: right;\">\n",
       "      <th></th>\n",
       "      <th>first</th>\n",
       "      <th>last</th>\n",
       "      <th>email</th>\n",
       "    </tr>\n",
       "  </thead>\n",
       "  <tbody>\n",
       "    <tr>\n",
       "      <th>0</th>\n",
       "      <td>Corey</td>\n",
       "      <td>Schafer</td>\n",
       "      <td>CoreyMSchafer@gmail.com</td>\n",
       "    </tr>\n",
       "    <tr>\n",
       "      <th>1</th>\n",
       "      <td>Jane</td>\n",
       "      <td>Doe</td>\n",
       "      <td>JaneDoe@email.com</td>\n",
       "    </tr>\n",
       "    <tr>\n",
       "      <th>2</th>\n",
       "      <td>John</td>\n",
       "      <td>Doe</td>\n",
       "      <td>JohnDoe@email.com</td>\n",
       "    </tr>\n",
       "  </tbody>\n",
       "</table>\n",
       "</div>"
      ],
      "text/plain": [
       "   first     last                    email\n",
       "0  Corey  Schafer  CoreyMSchafer@gmail.com\n",
       "1   Jane      Doe        JaneDoe@email.com\n",
       "2   John      Doe        JohnDoe@email.com"
      ]
     },
     "execution_count": 19,
     "metadata": {},
     "output_type": "execute_result"
    }
   ],
   "source": [
    "df\n"
   ]
  },
  {
   "cell_type": "code",
   "execution_count": 20,
   "id": "65f8cd0d",
   "metadata": {
    "execution": {
     "iopub.execute_input": "2024-04-03T12:34:09.367650Z",
     "iopub.status.busy": "2024-04-03T12:34:09.366916Z",
     "iopub.status.idle": "2024-04-03T12:34:09.374098Z",
     "shell.execute_reply": "2024-04-03T12:34:09.373081Z"
    },
    "papermill": {
     "duration": 0.022376,
     "end_time": "2024-04-03T12:34:09.376384",
     "exception": false,
     "start_time": "2024-04-03T12:34:09.354008",
     "status": "completed"
    },
    "tags": []
   },
   "outputs": [
    {
     "data": {
      "text/plain": [
       "first                      Corey\n",
       "last                     Schafer\n",
       "email    CoreyMSchafer@gmail.com\n",
       "Name: 0, dtype: object"
      ]
     },
     "execution_count": 20,
     "metadata": {},
     "output_type": "execute_result"
    }
   ],
   "source": [
    "df.loc[0]"
   ]
  },
  {
   "cell_type": "code",
   "execution_count": 21,
   "id": "e47f1a43",
   "metadata": {
    "execution": {
     "iopub.execute_input": "2024-04-03T12:34:09.401864Z",
     "iopub.status.busy": "2024-04-03T12:34:09.401011Z",
     "iopub.status.idle": "2024-04-03T12:34:09.421864Z",
     "shell.execute_reply": "2024-04-03T12:34:09.420572Z"
    },
    "papermill": {
     "duration": 0.036402,
     "end_time": "2024-04-03T12:34:09.424613",
     "exception": false,
     "start_time": "2024-04-03T12:34:09.388211",
     "status": "completed"
    },
    "tags": []
   },
   "outputs": [
    {
     "data": {
      "text/html": [
       "<div>\n",
       "<style scoped>\n",
       "    .dataframe tbody tr th:only-of-type {\n",
       "        vertical-align: middle;\n",
       "    }\n",
       "\n",
       "    .dataframe tbody tr th {\n",
       "        vertical-align: top;\n",
       "    }\n",
       "\n",
       "    .dataframe thead th {\n",
       "        text-align: right;\n",
       "    }\n",
       "</style>\n",
       "<table border=\"1\" class=\"dataframe\">\n",
       "  <thead>\n",
       "    <tr style=\"text-align: right;\">\n",
       "      <th></th>\n",
       "      <th>last</th>\n",
       "      <th>email</th>\n",
       "    </tr>\n",
       "  </thead>\n",
       "  <tbody>\n",
       "    <tr>\n",
       "      <th>0</th>\n",
       "      <td>Schafer</td>\n",
       "      <td>CoreyMSchafer@gmail.com</td>\n",
       "    </tr>\n",
       "    <tr>\n",
       "      <th>1</th>\n",
       "      <td>Doe</td>\n",
       "      <td>JaneDoe@email.com</td>\n",
       "    </tr>\n",
       "  </tbody>\n",
       "</table>\n",
       "</div>"
      ],
      "text/plain": [
       "      last                    email\n",
       "0  Schafer  CoreyMSchafer@gmail.com\n",
       "1      Doe        JaneDoe@email.com"
      ]
     },
     "execution_count": 21,
     "metadata": {},
     "output_type": "execute_result"
    }
   ],
   "source": [
    "df.loc[[0, 1], ['last', 'email']]"
   ]
  },
  {
   "cell_type": "code",
   "execution_count": 22,
   "id": "e84f4ac5",
   "metadata": {
    "execution": {
     "iopub.execute_input": "2024-04-03T12:34:09.455977Z",
     "iopub.status.busy": "2024-04-03T12:34:09.454662Z",
     "iopub.status.idle": "2024-04-03T12:34:12.595556Z",
     "shell.execute_reply": "2024-04-03T12:34:12.594349Z"
    },
    "papermill": {
     "duration": 3.1576,
     "end_time": "2024-04-03T12:34:12.598289",
     "exception": false,
     "start_time": "2024-04-03T12:34:09.440689",
     "status": "completed"
    },
    "tags": []
   },
   "outputs": [],
   "source": [
    "df = pd.read_csv('/kaggle/input/pandas-ds-manoflearning/survey_results_public.csv')"
   ]
  },
  {
   "cell_type": "code",
   "execution_count": 23,
   "id": "4c1aa708",
   "metadata": {
    "execution": {
     "iopub.execute_input": "2024-04-03T12:34:12.623873Z",
     "iopub.status.busy": "2024-04-03T12:34:12.623396Z",
     "iopub.status.idle": "2024-04-03T12:34:12.630234Z",
     "shell.execute_reply": "2024-04-03T12:34:12.628967Z"
    },
    "papermill": {
     "duration": 0.022355,
     "end_time": "2024-04-03T12:34:12.632288",
     "exception": false,
     "start_time": "2024-04-03T12:34:12.609933",
     "status": "completed"
    },
    "tags": []
   },
   "outputs": [
    {
     "data": {
      "text/plain": [
       "(88883, 85)"
      ]
     },
     "execution_count": 23,
     "metadata": {},
     "output_type": "execute_result"
    }
   ],
   "source": [
    "df.shape"
   ]
  },
  {
   "cell_type": "code",
   "execution_count": 24,
   "id": "3f571a67",
   "metadata": {
    "execution": {
     "iopub.execute_input": "2024-04-03T12:34:12.657585Z",
     "iopub.status.busy": "2024-04-03T12:34:12.657124Z",
     "iopub.status.idle": "2024-04-03T12:34:12.664512Z",
     "shell.execute_reply": "2024-04-03T12:34:12.663374Z"
    },
    "papermill": {
     "duration": 0.022932,
     "end_time": "2024-04-03T12:34:12.666921",
     "exception": false,
     "start_time": "2024-04-03T12:34:12.643989",
     "status": "completed"
    },
    "tags": []
   },
   "outputs": [
    {
     "data": {
      "text/plain": [
       "Index(['Respondent', 'MainBranch', 'Hobbyist', 'OpenSourcer', 'OpenSource',\n",
       "       'Employment', 'Country', 'Student', 'EdLevel', 'UndergradMajor',\n",
       "       'EduOther', 'OrgSize', 'DevType', 'YearsCode', 'Age1stCode',\n",
       "       'YearsCodePro', 'CareerSat', 'JobSat', 'MgrIdiot', 'MgrMoney',\n",
       "       'MgrWant', 'JobSeek', 'LastHireDate', 'LastInt', 'FizzBuzz',\n",
       "       'JobFactors', 'ResumeUpdate', 'CurrencySymbol', 'CurrencyDesc',\n",
       "       'CompTotal', 'CompFreq', 'ConvertedComp', 'WorkWeekHrs', 'WorkPlan',\n",
       "       'WorkChallenge', 'WorkRemote', 'WorkLoc', 'ImpSyn', 'CodeRev',\n",
       "       'CodeRevHrs', 'UnitTests', 'PurchaseHow', 'PurchaseWhat',\n",
       "       'LanguageWorkedWith', 'LanguageDesireNextYear', 'DatabaseWorkedWith',\n",
       "       'DatabaseDesireNextYear', 'PlatformWorkedWith',\n",
       "       'PlatformDesireNextYear', 'WebFrameWorkedWith',\n",
       "       'WebFrameDesireNextYear', 'MiscTechWorkedWith',\n",
       "       'MiscTechDesireNextYear', 'DevEnviron', 'OpSys', 'Containers',\n",
       "       'BlockchainOrg', 'BlockchainIs', 'BetterLife', 'ITperson', 'OffOn',\n",
       "       'SocialMedia', 'Extraversion', 'ScreenName', 'SOVisit1st',\n",
       "       'SOVisitFreq', 'SOVisitTo', 'SOFindAnswer', 'SOTimeSaved',\n",
       "       'SOHowMuchTime', 'SOAccount', 'SOPartFreq', 'SOJobs', 'EntTeams',\n",
       "       'SOComm', 'WelcomeChange', 'SONewContent', 'Age', 'Gender', 'Trans',\n",
       "       'Sexuality', 'Ethnicity', 'Dependents', 'SurveyLength', 'SurveyEase'],\n",
       "      dtype='object')"
      ]
     },
     "execution_count": 24,
     "metadata": {},
     "output_type": "execute_result"
    }
   ],
   "source": [
    "df.columns"
   ]
  },
  {
   "cell_type": "code",
   "execution_count": 25,
   "id": "739d6019",
   "metadata": {
    "execution": {
     "iopub.execute_input": "2024-04-03T12:34:12.692442Z",
     "iopub.status.busy": "2024-04-03T12:34:12.692019Z",
     "iopub.status.idle": "2024-04-03T12:34:12.700752Z",
     "shell.execute_reply": "2024-04-03T12:34:12.699698Z"
    },
    "papermill": {
     "duration": 0.023691,
     "end_time": "2024-04-03T12:34:12.702769",
     "exception": false,
     "start_time": "2024-04-03T12:34:12.679078",
     "status": "completed"
    },
    "tags": []
   },
   "outputs": [
    {
     "data": {
      "text/plain": [
       "0        Yes\n",
       "1         No\n",
       "2        Yes\n",
       "3         No\n",
       "4        Yes\n",
       "        ... \n",
       "88878    Yes\n",
       "88879     No\n",
       "88880     No\n",
       "88881     No\n",
       "88882    Yes\n",
       "Name: Hobbyist, Length: 88883, dtype: object"
      ]
     },
     "execution_count": 25,
     "metadata": {},
     "output_type": "execute_result"
    }
   ],
   "source": [
    "df['Hobbyist']"
   ]
  },
  {
   "cell_type": "code",
   "execution_count": 26,
   "id": "71a9a4ce",
   "metadata": {
    "execution": {
     "iopub.execute_input": "2024-04-03T12:34:12.729805Z",
     "iopub.status.busy": "2024-04-03T12:34:12.729332Z",
     "iopub.status.idle": "2024-04-03T12:34:12.749337Z",
     "shell.execute_reply": "2024-04-03T12:34:12.748184Z"
    },
    "papermill": {
     "duration": 0.037253,
     "end_time": "2024-04-03T12:34:12.751758",
     "exception": false,
     "start_time": "2024-04-03T12:34:12.714505",
     "status": "completed"
    },
    "tags": []
   },
   "outputs": [
    {
     "data": {
      "text/plain": [
       "Hobbyist\n",
       "Yes    71257\n",
       "No     17626\n",
       "Name: count, dtype: int64"
      ]
     },
     "execution_count": 26,
     "metadata": {},
     "output_type": "execute_result"
    }
   ],
   "source": [
    "df['Hobbyist'].value_counts()"
   ]
  },
  {
   "cell_type": "code",
   "execution_count": 27,
   "id": "b76cb268",
   "metadata": {
    "execution": {
     "iopub.execute_input": "2024-04-03T12:34:12.779138Z",
     "iopub.status.busy": "2024-04-03T12:34:12.778248Z",
     "iopub.status.idle": "2024-04-03T12:34:12.787302Z",
     "shell.execute_reply": "2024-04-03T12:34:12.786085Z"
    },
    "papermill": {
     "duration": 0.02522,
     "end_time": "2024-04-03T12:34:12.789616",
     "exception": false,
     "start_time": "2024-04-03T12:34:12.764396",
     "status": "completed"
    },
    "tags": []
   },
   "outputs": [
    {
     "data": {
      "text/plain": [
       "0    Yes\n",
       "1     No\n",
       "3     No\n",
       "Name: Hobbyist, dtype: object"
      ]
     },
     "execution_count": 27,
     "metadata": {},
     "output_type": "execute_result"
    }
   ],
   "source": [
    "df.loc[[0, 1, 3], 'Hobbyist']"
   ]
  },
  {
   "cell_type": "code",
   "execution_count": 28,
   "id": "07167f43",
   "metadata": {
    "execution": {
     "iopub.execute_input": "2024-04-03T12:34:12.815692Z",
     "iopub.status.busy": "2024-04-03T12:34:12.815004Z",
     "iopub.status.idle": "2024-04-03T12:34:12.833987Z",
     "shell.execute_reply": "2024-04-03T12:34:12.832887Z"
    },
    "papermill": {
     "duration": 0.035074,
     "end_time": "2024-04-03T12:34:12.836646",
     "exception": false,
     "start_time": "2024-04-03T12:34:12.801572",
     "status": "completed"
    },
    "tags": []
   },
   "outputs": [
    {
     "data": {
      "text/html": [
       "<div>\n",
       "<style scoped>\n",
       "    .dataframe tbody tr th:only-of-type {\n",
       "        vertical-align: middle;\n",
       "    }\n",
       "\n",
       "    .dataframe tbody tr th {\n",
       "        vertical-align: top;\n",
       "    }\n",
       "\n",
       "    .dataframe thead th {\n",
       "        text-align: right;\n",
       "    }\n",
       "</style>\n",
       "<table border=\"1\" class=\"dataframe\">\n",
       "  <thead>\n",
       "    <tr style=\"text-align: right;\">\n",
       "      <th></th>\n",
       "      <th>Hobbyist</th>\n",
       "      <th>OpenSourcer</th>\n",
       "      <th>OpenSource</th>\n",
       "      <th>Employment</th>\n",
       "    </tr>\n",
       "  </thead>\n",
       "  <tbody>\n",
       "    <tr>\n",
       "      <th>0</th>\n",
       "      <td>Yes</td>\n",
       "      <td>Never</td>\n",
       "      <td>The quality of OSS and closed source software ...</td>\n",
       "      <td>Not employed, and not looking for work</td>\n",
       "    </tr>\n",
       "    <tr>\n",
       "      <th>1</th>\n",
       "      <td>No</td>\n",
       "      <td>Less than once per year</td>\n",
       "      <td>The quality of OSS and closed source software ...</td>\n",
       "      <td>Not employed, but looking for work</td>\n",
       "    </tr>\n",
       "    <tr>\n",
       "      <th>2</th>\n",
       "      <td>Yes</td>\n",
       "      <td>Never</td>\n",
       "      <td>The quality of OSS and closed source software ...</td>\n",
       "      <td>Employed full-time</td>\n",
       "    </tr>\n",
       "  </tbody>\n",
       "</table>\n",
       "</div>"
      ],
      "text/plain": [
       "  Hobbyist              OpenSourcer  \\\n",
       "0      Yes                    Never   \n",
       "1       No  Less than once per year   \n",
       "2      Yes                    Never   \n",
       "\n",
       "                                          OpenSource  \\\n",
       "0  The quality of OSS and closed source software ...   \n",
       "1  The quality of OSS and closed source software ...   \n",
       "2  The quality of OSS and closed source software ...   \n",
       "\n",
       "                               Employment  \n",
       "0  Not employed, and not looking for work  \n",
       "1      Not employed, but looking for work  \n",
       "2                      Employed full-time  "
      ]
     },
     "execution_count": 28,
     "metadata": {},
     "output_type": "execute_result"
    }
   ],
   "source": [
    "df.loc[0:2, 'Hobbyist':'Employment']"
   ]
  },
  {
   "cell_type": "code",
   "execution_count": 29,
   "id": "35b323c0",
   "metadata": {
    "execution": {
     "iopub.execute_input": "2024-04-03T12:34:12.863550Z",
     "iopub.status.busy": "2024-04-03T12:34:12.863138Z",
     "iopub.status.idle": "2024-04-03T12:34:12.869146Z",
     "shell.execute_reply": "2024-04-03T12:34:12.867820Z"
    },
    "papermill": {
     "duration": 0.022215,
     "end_time": "2024-04-03T12:34:12.871451",
     "exception": false,
     "start_time": "2024-04-03T12:34:12.849236",
     "status": "completed"
    },
    "tags": []
   },
   "outputs": [],
   "source": [
    "person = {\n",
    "    \"first\": \"Corey\", \n",
    "    \"last\": \"Schafer\", \n",
    "    \"email\": \"CoreyMSchafer@gmail.com\"\n",
    "}\n",
    "\n",
    "people = {\n",
    "    \"first\": [\"Corey\", 'Jane', 'John'], \n",
    "    \"last\": [\"Schafer\", 'Doe', 'Doe'], \n",
    "    \"email\": [\"CoreyMSchafer@gmail.com\", 'JaneDoe@email.com', 'JohnDoe@email.com']\n",
    "}"
   ]
  },
  {
   "cell_type": "code",
   "execution_count": 30,
   "id": "995d46c0",
   "metadata": {
    "execution": {
     "iopub.execute_input": "2024-04-03T12:34:12.967705Z",
     "iopub.status.busy": "2024-04-03T12:34:12.966579Z",
     "iopub.status.idle": "2024-04-03T12:34:12.972625Z",
     "shell.execute_reply": "2024-04-03T12:34:12.971491Z"
    },
    "papermill": {
     "duration": 0.021926,
     "end_time": "2024-04-03T12:34:12.974648",
     "exception": false,
     "start_time": "2024-04-03T12:34:12.952722",
     "status": "completed"
    },
    "tags": []
   },
   "outputs": [],
   "source": [
    "df2 = pd.DataFrame(people)"
   ]
  },
  {
   "cell_type": "code",
   "execution_count": 31,
   "id": "1fcde8b1",
   "metadata": {
    "execution": {
     "iopub.execute_input": "2024-04-03T12:34:13.001633Z",
     "iopub.status.busy": "2024-04-03T12:34:13.000380Z",
     "iopub.status.idle": "2024-04-03T12:34:13.009352Z",
     "shell.execute_reply": "2024-04-03T12:34:13.008088Z"
    },
    "papermill": {
     "duration": 0.024692,
     "end_time": "2024-04-03T12:34:13.011589",
     "exception": false,
     "start_time": "2024-04-03T12:34:12.986897",
     "status": "completed"
    },
    "tags": []
   },
   "outputs": [
    {
     "data": {
      "text/plain": [
       "0    CoreyMSchafer@gmail.com\n",
       "1          JaneDoe@email.com\n",
       "2          JohnDoe@email.com\n",
       "Name: email, dtype: object"
      ]
     },
     "execution_count": 31,
     "metadata": {},
     "output_type": "execute_result"
    }
   ],
   "source": [
    "df2['email']"
   ]
  },
  {
   "cell_type": "code",
   "execution_count": 32,
   "id": "e2ca8fa6",
   "metadata": {
    "execution": {
     "iopub.execute_input": "2024-04-03T12:34:13.038931Z",
     "iopub.status.busy": "2024-04-03T12:34:13.037956Z",
     "iopub.status.idle": "2024-04-03T12:34:13.050492Z",
     "shell.execute_reply": "2024-04-03T12:34:13.049660Z"
    },
    "papermill": {
     "duration": 0.028591,
     "end_time": "2024-04-03T12:34:13.052668",
     "exception": false,
     "start_time": "2024-04-03T12:34:13.024077",
     "status": "completed"
    },
    "tags": []
   },
   "outputs": [
    {
     "data": {
      "text/html": [
       "<div>\n",
       "<style scoped>\n",
       "    .dataframe tbody tr th:only-of-type {\n",
       "        vertical-align: middle;\n",
       "    }\n",
       "\n",
       "    .dataframe tbody tr th {\n",
       "        vertical-align: top;\n",
       "    }\n",
       "\n",
       "    .dataframe thead th {\n",
       "        text-align: right;\n",
       "    }\n",
       "</style>\n",
       "<table border=\"1\" class=\"dataframe\">\n",
       "  <thead>\n",
       "    <tr style=\"text-align: right;\">\n",
       "      <th></th>\n",
       "      <th>first</th>\n",
       "      <th>last</th>\n",
       "    </tr>\n",
       "    <tr>\n",
       "      <th>email</th>\n",
       "      <th></th>\n",
       "      <th></th>\n",
       "    </tr>\n",
       "  </thead>\n",
       "  <tbody>\n",
       "    <tr>\n",
       "      <th>CoreyMSchafer@gmail.com</th>\n",
       "      <td>Corey</td>\n",
       "      <td>Schafer</td>\n",
       "    </tr>\n",
       "    <tr>\n",
       "      <th>JaneDoe@email.com</th>\n",
       "      <td>Jane</td>\n",
       "      <td>Doe</td>\n",
       "    </tr>\n",
       "    <tr>\n",
       "      <th>JohnDoe@email.com</th>\n",
       "      <td>John</td>\n",
       "      <td>Doe</td>\n",
       "    </tr>\n",
       "  </tbody>\n",
       "</table>\n",
       "</div>"
      ],
      "text/plain": [
       "                         first     last\n",
       "email                                  \n",
       "CoreyMSchafer@gmail.com  Corey  Schafer\n",
       "JaneDoe@email.com         Jane      Doe\n",
       "JohnDoe@email.com         John      Doe"
      ]
     },
     "execution_count": 32,
     "metadata": {},
     "output_type": "execute_result"
    }
   ],
   "source": [
    "df2.set_index('email')"
   ]
  },
  {
   "cell_type": "code",
   "execution_count": 33,
   "id": "6dbc54b4",
   "metadata": {
    "execution": {
     "iopub.execute_input": "2024-04-03T12:34:13.079849Z",
     "iopub.status.busy": "2024-04-03T12:34:13.079410Z",
     "iopub.status.idle": "2024-04-03T12:34:13.086097Z",
     "shell.execute_reply": "2024-04-03T12:34:13.085033Z"
    },
    "papermill": {
     "duration": 0.022928,
     "end_time": "2024-04-03T12:34:13.088338",
     "exception": false,
     "start_time": "2024-04-03T12:34:13.065410",
     "status": "completed"
    },
    "tags": []
   },
   "outputs": [
    {
     "data": {
      "text/plain": [
       "RangeIndex(start=0, stop=3, step=1)"
      ]
     },
     "execution_count": 33,
     "metadata": {},
     "output_type": "execute_result"
    }
   ],
   "source": [
    "df2.index"
   ]
  },
  {
   "cell_type": "code",
   "execution_count": 34,
   "id": "97419c58",
   "metadata": {
    "execution": {
     "iopub.execute_input": "2024-04-03T12:34:13.115796Z",
     "iopub.status.busy": "2024-04-03T12:34:13.115351Z",
     "iopub.status.idle": "2024-04-03T12:34:13.121054Z",
     "shell.execute_reply": "2024-04-03T12:34:13.119931Z"
    },
    "papermill": {
     "duration": 0.021989,
     "end_time": "2024-04-03T12:34:13.123265",
     "exception": false,
     "start_time": "2024-04-03T12:34:13.101276",
     "status": "completed"
    },
    "tags": []
   },
   "outputs": [],
   "source": [
    "df2.set_index('email', inplace = True)"
   ]
  },
  {
   "cell_type": "code",
   "execution_count": 35,
   "id": "d1a9d535",
   "metadata": {
    "execution": {
     "iopub.execute_input": "2024-04-03T12:34:13.152057Z",
     "iopub.status.busy": "2024-04-03T12:34:13.151655Z",
     "iopub.status.idle": "2024-04-03T12:34:13.157913Z",
     "shell.execute_reply": "2024-04-03T12:34:13.157054Z"
    },
    "papermill": {
     "duration": 0.02326,
     "end_time": "2024-04-03T12:34:13.159928",
     "exception": false,
     "start_time": "2024-04-03T12:34:13.136668",
     "status": "completed"
    },
    "tags": []
   },
   "outputs": [
    {
     "data": {
      "text/plain": [
       "Index(['CoreyMSchafer@gmail.com', 'JaneDoe@email.com', 'JohnDoe@email.com'], dtype='object', name='email')"
      ]
     },
     "execution_count": 35,
     "metadata": {},
     "output_type": "execute_result"
    }
   ],
   "source": [
    "df2.index"
   ]
  },
  {
   "cell_type": "code",
   "execution_count": 36,
   "id": "c081a8e2",
   "metadata": {
    "execution": {
     "iopub.execute_input": "2024-04-03T12:34:13.187874Z",
     "iopub.status.busy": "2024-04-03T12:34:13.187406Z",
     "iopub.status.idle": "2024-04-03T12:34:13.196012Z",
     "shell.execute_reply": "2024-04-03T12:34:13.194795Z"
    },
    "papermill": {
     "duration": 0.025186,
     "end_time": "2024-04-03T12:34:13.198134",
     "exception": false,
     "start_time": "2024-04-03T12:34:13.172948",
     "status": "completed"
    },
    "tags": []
   },
   "outputs": [
    {
     "data": {
      "text/plain": [
       "first      Corey\n",
       "last     Schafer\n",
       "Name: CoreyMSchafer@gmail.com, dtype: object"
      ]
     },
     "execution_count": 36,
     "metadata": {},
     "output_type": "execute_result"
    }
   ],
   "source": [
    "df2.loc['CoreyMSchafer@gmail.com']"
   ]
  },
  {
   "cell_type": "code",
   "execution_count": 37,
   "id": "b6dea022",
   "metadata": {
    "execution": {
     "iopub.execute_input": "2024-04-03T12:34:13.225986Z",
     "iopub.status.busy": "2024-04-03T12:34:13.225557Z",
     "iopub.status.idle": "2024-04-03T12:34:13.232567Z",
     "shell.execute_reply": "2024-04-03T12:34:13.231520Z"
    },
    "papermill": {
     "duration": 0.023242,
     "end_time": "2024-04-03T12:34:13.234575",
     "exception": false,
     "start_time": "2024-04-03T12:34:13.211333",
     "status": "completed"
    },
    "tags": []
   },
   "outputs": [
    {
     "data": {
      "text/plain": [
       "'Schafer'"
      ]
     },
     "execution_count": 37,
     "metadata": {},
     "output_type": "execute_result"
    }
   ],
   "source": [
    "df2.loc['CoreyMSchafer@gmail.com', 'last']"
   ]
  },
  {
   "cell_type": "code",
   "execution_count": 38,
   "id": "8137787d",
   "metadata": {
    "execution": {
     "iopub.execute_input": "2024-04-03T12:34:13.262515Z",
     "iopub.status.busy": "2024-04-03T12:34:13.262083Z",
     "iopub.status.idle": "2024-04-03T12:34:13.273916Z",
     "shell.execute_reply": "2024-04-03T12:34:13.272823Z"
    },
    "papermill": {
     "duration": 0.028486,
     "end_time": "2024-04-03T12:34:13.276094",
     "exception": false,
     "start_time": "2024-04-03T12:34:13.247608",
     "status": "completed"
    },
    "tags": []
   },
   "outputs": [
    {
     "data": {
      "text/html": [
       "<div>\n",
       "<style scoped>\n",
       "    .dataframe tbody tr th:only-of-type {\n",
       "        vertical-align: middle;\n",
       "    }\n",
       "\n",
       "    .dataframe tbody tr th {\n",
       "        vertical-align: top;\n",
       "    }\n",
       "\n",
       "    .dataframe thead th {\n",
       "        text-align: right;\n",
       "    }\n",
       "</style>\n",
       "<table border=\"1\" class=\"dataframe\">\n",
       "  <thead>\n",
       "    <tr style=\"text-align: right;\">\n",
       "      <th></th>\n",
       "      <th>email</th>\n",
       "      <th>first</th>\n",
       "      <th>last</th>\n",
       "    </tr>\n",
       "  </thead>\n",
       "  <tbody>\n",
       "    <tr>\n",
       "      <th>0</th>\n",
       "      <td>CoreyMSchafer@gmail.com</td>\n",
       "      <td>Corey</td>\n",
       "      <td>Schafer</td>\n",
       "    </tr>\n",
       "    <tr>\n",
       "      <th>1</th>\n",
       "      <td>JaneDoe@email.com</td>\n",
       "      <td>Jane</td>\n",
       "      <td>Doe</td>\n",
       "    </tr>\n",
       "    <tr>\n",
       "      <th>2</th>\n",
       "      <td>JohnDoe@email.com</td>\n",
       "      <td>John</td>\n",
       "      <td>Doe</td>\n",
       "    </tr>\n",
       "  </tbody>\n",
       "</table>\n",
       "</div>"
      ],
      "text/plain": [
       "                     email  first     last\n",
       "0  CoreyMSchafer@gmail.com  Corey  Schafer\n",
       "1        JaneDoe@email.com   Jane      Doe\n",
       "2        JohnDoe@email.com   John      Doe"
      ]
     },
     "execution_count": 38,
     "metadata": {},
     "output_type": "execute_result"
    }
   ],
   "source": [
    "df2.reset_index(inplace = True)\n",
    "df2"
   ]
  },
  {
   "cell_type": "code",
   "execution_count": 39,
   "id": "8aec82c8",
   "metadata": {
    "execution": {
     "iopub.execute_input": "2024-04-03T12:34:13.304922Z",
     "iopub.status.busy": "2024-04-03T12:34:13.304449Z",
     "iopub.status.idle": "2024-04-03T12:34:13.316003Z",
     "shell.execute_reply": "2024-04-03T12:34:13.315172Z"
    },
    "papermill": {
     "duration": 0.0286,
     "end_time": "2024-04-03T12:34:13.317910",
     "exception": false,
     "start_time": "2024-04-03T12:34:13.289310",
     "status": "completed"
    },
    "tags": []
   },
   "outputs": [
    {
     "data": {
      "text/html": [
       "<div>\n",
       "<style scoped>\n",
       "    .dataframe tbody tr th:only-of-type {\n",
       "        vertical-align: middle;\n",
       "    }\n",
       "\n",
       "    .dataframe tbody tr th {\n",
       "        vertical-align: top;\n",
       "    }\n",
       "\n",
       "    .dataframe thead th {\n",
       "        text-align: right;\n",
       "    }\n",
       "</style>\n",
       "<table border=\"1\" class=\"dataframe\">\n",
       "  <thead>\n",
       "    <tr style=\"text-align: right;\">\n",
       "      <th></th>\n",
       "      <th>email</th>\n",
       "      <th>first</th>\n",
       "      <th>last</th>\n",
       "    </tr>\n",
       "  </thead>\n",
       "  <tbody>\n",
       "    <tr>\n",
       "      <th>1</th>\n",
       "      <td>JaneDoe@email.com</td>\n",
       "      <td>Jane</td>\n",
       "      <td>Doe</td>\n",
       "    </tr>\n",
       "    <tr>\n",
       "      <th>2</th>\n",
       "      <td>JohnDoe@email.com</td>\n",
       "      <td>John</td>\n",
       "      <td>Doe</td>\n",
       "    </tr>\n",
       "  </tbody>\n",
       "</table>\n",
       "</div>"
      ],
      "text/plain": [
       "               email first last\n",
       "1  JaneDoe@email.com  Jane  Doe\n",
       "2  JohnDoe@email.com  John  Doe"
      ]
     },
     "execution_count": 39,
     "metadata": {},
     "output_type": "execute_result"
    }
   ],
   "source": [
    "filt = df2['last'] == 'Doe'\n",
    "df2[filt]"
   ]
  }
 ],
 "metadata": {
  "kaggle": {
   "accelerator": "none",
   "dataSources": [
    {
     "datasetId": 4724532,
     "sourceId": 8018413,
     "sourceType": "datasetVersion"
    },
    {
     "datasetId": 4724663,
     "sourceId": 8018579,
     "sourceType": "datasetVersion"
    }
   ],
   "dockerImageVersionId": 30673,
   "isGpuEnabled": false,
   "isInternetEnabled": true,
   "language": "python",
   "sourceType": "notebook"
  },
  "kernelspec": {
   "display_name": "Python 3",
   "language": "python",
   "name": "python3"
  },
  "language_info": {
   "codemirror_mode": {
    "name": "ipython",
    "version": 3
   },
   "file_extension": ".py",
   "mimetype": "text/x-python",
   "name": "python",
   "nbconvert_exporter": "python",
   "pygments_lexer": "ipython3",
   "version": "3.10.13"
  },
  "papermill": {
   "default_parameters": {},
   "duration": 14.543449,
   "end_time": "2024-04-03T12:34:13.954017",
   "environment_variables": {},
   "exception": null,
   "input_path": "__notebook__.ipynb",
   "output_path": "__notebook__.ipynb",
   "parameters": {},
   "start_time": "2024-04-03T12:33:59.410568",
   "version": "2.5.0"
  }
 },
 "nbformat": 4,
 "nbformat_minor": 5
}
