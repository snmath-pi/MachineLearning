{
 "cells": [
  {
   "cell_type": "code",
   "execution_count": 1,
   "id": "9cd98618",
   "metadata": {
    "_cell_guid": "b1076dfc-b9ad-4769-8c92-a6c4dae69d19",
    "_uuid": "8f2839f25d086af736a60e9eeb907d3b93b6e0e5",
    "execution": {
     "iopub.execute_input": "2024-03-20T14:48:35.042722Z",
     "iopub.status.busy": "2024-03-20T14:48:35.041924Z",
     "iopub.status.idle": "2024-03-20T14:48:35.055643Z",
     "shell.execute_reply": "2024-03-20T14:48:35.054004Z"
    },
    "papermill": {
     "duration": 0.034587,
     "end_time": "2024-03-20T14:48:35.058741",
     "exception": false,
     "start_time": "2024-03-20T14:48:35.024154",
     "status": "completed"
    },
    "tags": []
   },
   "outputs": [
    {
     "name": "stdout",
     "output_type": "stream",
     "text": [
      "hello\n"
     ]
    }
   ],
   "source": [
    "print(\"hello\")"
   ]
  },
  {
   "cell_type": "code",
   "execution_count": 2,
   "id": "65ce15f4",
   "metadata": {
    "execution": {
     "iopub.execute_input": "2024-03-20T14:48:35.092427Z",
     "iopub.status.busy": "2024-03-20T14:48:35.091615Z",
     "iopub.status.idle": "2024-03-20T14:48:35.096775Z",
     "shell.execute_reply": "2024-03-20T14:48:35.095901Z"
    },
    "papermill": {
     "duration": 0.024261,
     "end_time": "2024-03-20T14:48:35.098904",
     "exception": false,
     "start_time": "2024-03-20T14:48:35.074643",
     "status": "completed"
    },
    "tags": []
   },
   "outputs": [
    {
     "name": "stdout",
     "output_type": "stream",
     "text": [
      "6 Hello\n"
     ]
    }
   ],
   "source": [
    "print(6, \"Hello\")"
   ]
  },
  {
   "cell_type": "code",
   "execution_count": 3,
   "id": "f1897c73",
   "metadata": {
    "execution": {
     "iopub.execute_input": "2024-03-20T14:48:35.133229Z",
     "iopub.status.busy": "2024-03-20T14:48:35.132518Z",
     "iopub.status.idle": "2024-03-20T14:48:35.137486Z",
     "shell.execute_reply": "2024-03-20T14:48:35.136701Z"
    },
    "papermill": {
     "duration": 0.024778,
     "end_time": "2024-03-20T14:48:35.139570",
     "exception": false,
     "start_time": "2024-03-20T14:48:35.114792",
     "status": "completed"
    },
    "tags": []
   },
   "outputs": [
    {
     "name": "stdout",
     "output_type": "stream",
     "text": [
      "India China USA South Korea\n"
     ]
    }
   ],
   "source": [
    "print(\"India\", \"China\", \"USA\", \"South Korea\") # by default it's sep = ' ', end = '\\n'"
   ]
  },
  {
   "cell_type": "code",
   "execution_count": 4,
   "id": "86af9a02",
   "metadata": {
    "execution": {
     "iopub.execute_input": "2024-03-20T14:48:35.174394Z",
     "iopub.status.busy": "2024-03-20T14:48:35.173740Z",
     "iopub.status.idle": "2024-03-20T14:48:35.178492Z",
     "shell.execute_reply": "2024-03-20T14:48:35.177759Z"
    },
    "papermill": {
     "duration": 0.025764,
     "end_time": "2024-03-20T14:48:35.180954",
     "exception": false,
     "start_time": "2024-03-20T14:48:35.155190",
     "status": "completed"
    },
    "tags": []
   },
   "outputs": [
    {
     "name": "stdout",
     "output_type": "stream",
     "text": [
      "A/B/C/D\n"
     ]
    }
   ],
   "source": [
    "print(\"A\", \"B\", \"C\", \"D\", sep = '/')"
   ]
  },
  {
   "cell_type": "code",
   "execution_count": 5,
   "id": "8808bfbf",
   "metadata": {
    "execution": {
     "iopub.execute_input": "2024-03-20T14:48:35.213925Z",
     "iopub.status.busy": "2024-03-20T14:48:35.213471Z",
     "iopub.status.idle": "2024-03-20T14:48:35.219899Z",
     "shell.execute_reply": "2024-03-20T14:48:35.218547Z"
    },
    "papermill": {
     "duration": 0.026358,
     "end_time": "2024-03-20T14:48:35.222658",
     "exception": false,
     "start_time": "2024-03-20T14:48:35.196300",
     "status": "completed"
    },
    "tags": []
   },
   "outputs": [
    {
     "name": "stdout",
     "output_type": "stream",
     "text": [
      "Saksham Negi Yo\n"
     ]
    }
   ],
   "source": [
    "print('Saksham', 'Negi', end = ' ')\n",
    "print('Yo')"
   ]
  },
  {
   "cell_type": "markdown",
   "id": "a6845812",
   "metadata": {
    "papermill": {
     "duration": 0.016164,
     "end_time": "2024-03-20T14:48:35.255034",
     "exception": false,
     "start_time": "2024-03-20T14:48:35.238870",
     "status": "completed"
    },
    "tags": []
   },
   "source": [
    "Python supports 3 types of datatypes\n",
    "* Basic Types: Integer, Float, complex, boolean, string\n",
    "* Container Types: List, Tuples, Sets and Dictionary\n",
    "* User Defined: Class"
   ]
  },
  {
   "cell_type": "code",
   "execution_count": 6,
   "id": "cae4a75e",
   "metadata": {
    "execution": {
     "iopub.execute_input": "2024-03-20T14:48:35.289421Z",
     "iopub.status.busy": "2024-03-20T14:48:35.288937Z",
     "iopub.status.idle": "2024-03-20T14:48:35.296186Z",
     "shell.execute_reply": "2024-03-20T14:48:35.293548Z"
    },
    "papermill": {
     "duration": 0.02727,
     "end_time": "2024-03-20T14:48:35.298944",
     "exception": false,
     "start_time": "2024-03-20T14:48:35.271674",
     "status": "completed"
    },
    "tags": []
   },
   "outputs": [
    {
     "name": "stdout",
     "output_type": "stream",
     "text": [
      "699999999999999999999999999999999999999999999999999999999999999999999999999999999999999999999999999999\n"
     ]
    }
   ],
   "source": [
    "print(699999999999999999999999999999999999999999999999999999999999999999999999999999999999999999999999999999) #lol c++ will die"
   ]
  },
  {
   "cell_type": "code",
   "execution_count": 7,
   "id": "93858079",
   "metadata": {
    "execution": {
     "iopub.execute_input": "2024-03-20T14:48:35.335025Z",
     "iopub.status.busy": "2024-03-20T14:48:35.334550Z",
     "iopub.status.idle": "2024-03-20T14:48:35.341438Z",
     "shell.execute_reply": "2024-03-20T14:48:35.340113Z"
    },
    "papermill": {
     "duration": 0.026862,
     "end_time": "2024-03-20T14:48:35.344019",
     "exception": false,
     "start_time": "2024-03-20T14:48:35.317157",
     "status": "completed"
    },
    "tags": []
   },
   "outputs": [
    {
     "name": "stdout",
     "output_type": "stream",
     "text": [
      "4.5\n",
      "6.7\n",
      "0.3333333333333333\n",
      "3.142857142857143\n"
     ]
    }
   ],
   "source": [
    "print(4.5) \n",
    "print(6.7)\n",
    "print(1/3)\n",
    "print(22/7)"
   ]
  },
  {
   "cell_type": "code",
   "execution_count": 8,
   "id": "14f38cf0",
   "metadata": {
    "execution": {
     "iopub.execute_input": "2024-03-20T14:48:35.377744Z",
     "iopub.status.busy": "2024-03-20T14:48:35.377359Z",
     "iopub.status.idle": "2024-03-20T14:48:35.383499Z",
     "shell.execute_reply": "2024-03-20T14:48:35.382124Z"
    },
    "papermill": {
     "duration": 0.02644,
     "end_time": "2024-03-20T14:48:35.386395",
     "exception": false,
     "start_time": "2024-03-20T14:48:35.359955",
     "status": "completed"
    },
    "tags": []
   },
   "outputs": [
    {
     "name": "stdout",
     "output_type": "stream",
     "text": [
      "True\n",
      "False\n"
     ]
    }
   ],
   "source": [
    "print(True)\n",
    "print(False)"
   ]
  },
  {
   "cell_type": "code",
   "execution_count": 9,
   "id": "bcbddd31",
   "metadata": {
    "execution": {
     "iopub.execute_input": "2024-03-20T14:48:35.421004Z",
     "iopub.status.busy": "2024-03-20T14:48:35.420566Z",
     "iopub.status.idle": "2024-03-20T14:48:35.426685Z",
     "shell.execute_reply": "2024-03-20T14:48:35.425166Z"
    },
    "papermill": {
     "duration": 0.02702,
     "end_time": "2024-03-20T14:48:35.429355",
     "exception": false,
     "start_time": "2024-03-20T14:48:35.402335",
     "status": "completed"
    },
    "tags": []
   },
   "outputs": [
    {
     "name": "stdout",
     "output_type": "stream",
     "text": [
      "(4+5j)\n"
     ]
    }
   ],
   "source": [
    "print(4 + 5j)"
   ]
  },
  {
   "cell_type": "code",
   "execution_count": 10,
   "id": "3665ae4f",
   "metadata": {
    "execution": {
     "iopub.execute_input": "2024-03-20T14:48:35.464375Z",
     "iopub.status.busy": "2024-03-20T14:48:35.463938Z",
     "iopub.status.idle": "2024-03-20T14:48:35.470000Z",
     "shell.execute_reply": "2024-03-20T14:48:35.468709Z"
    },
    "papermill": {
     "duration": 0.027324,
     "end_time": "2024-03-20T14:48:35.472798",
     "exception": false,
     "start_time": "2024-03-20T14:48:35.445474",
     "status": "completed"
    },
    "tags": []
   },
   "outputs": [
    {
     "name": "stdout",
     "output_type": "stream",
     "text": [
      "Kolkata Love I love you\n"
     ]
    }
   ],
   "source": [
    "#string\n",
    "print('Kolkata', \"Love\", '''I love you''')"
   ]
  },
  {
   "cell_type": "code",
   "execution_count": 11,
   "id": "f2d97f39",
   "metadata": {
    "execution": {
     "iopub.execute_input": "2024-03-20T14:48:35.509507Z",
     "iopub.status.busy": "2024-03-20T14:48:35.509059Z",
     "iopub.status.idle": "2024-03-20T14:48:35.516019Z",
     "shell.execute_reply": "2024-03-20T14:48:35.514615Z"
    },
    "papermill": {
     "duration": 0.029595,
     "end_time": "2024-03-20T14:48:35.518894",
     "exception": false,
     "start_time": "2024-03-20T14:48:35.489299",
     "status": "completed"
    },
    "tags": []
   },
   "outputs": [
    {
     "name": "stdout",
     "output_type": "stream",
     "text": [
      "[1, 2, 3, 4]\n",
      "(1, 2)\n",
      "{1, 2, 3, 4}\n"
     ]
    }
   ],
   "source": [
    "print([1, 2, 3, 4])\n",
    "print((1, 2))\n",
    "print({1, 1, 2, 3, 3, 3, 4})"
   ]
  },
  {
   "cell_type": "code",
   "execution_count": 12,
   "id": "2c7f4f98",
   "metadata": {
    "execution": {
     "iopub.execute_input": "2024-03-20T14:48:35.555362Z",
     "iopub.status.busy": "2024-03-20T14:48:35.554937Z",
     "iopub.status.idle": "2024-03-20T14:48:35.561030Z",
     "shell.execute_reply": "2024-03-20T14:48:35.559810Z"
    },
    "papermill": {
     "duration": 0.027713,
     "end_time": "2024-03-20T14:48:35.563806",
     "exception": false,
     "start_time": "2024-03-20T14:48:35.536093",
     "status": "completed"
    },
    "tags": []
   },
   "outputs": [
    {
     "name": "stdout",
     "output_type": "stream",
     "text": [
      "Saksham is a:  Loser\n"
     ]
    }
   ],
   "source": [
    "#dict\n",
    "v = {\"Saksham\": \"Loser\"}\n",
    "print('Saksham is a: ', v['Saksham'])"
   ]
  },
  {
   "cell_type": "code",
   "execution_count": 13,
   "id": "8901a78b",
   "metadata": {
    "execution": {
     "iopub.execute_input": "2024-03-20T14:48:35.598646Z",
     "iopub.status.busy": "2024-03-20T14:48:35.598181Z",
     "iopub.status.idle": "2024-03-20T14:48:35.603435Z",
     "shell.execute_reply": "2024-03-20T14:48:35.602040Z"
    },
    "papermill": {
     "duration": 0.025883,
     "end_time": "2024-03-20T14:48:35.605993",
     "exception": false,
     "start_time": "2024-03-20T14:48:35.580110",
     "status": "completed"
    },
    "tags": []
   },
   "outputs": [],
   "source": [
    "#comments\n"
   ]
  },
  {
   "cell_type": "code",
   "execution_count": 14,
   "id": "df271a1f",
   "metadata": {
    "execution": {
     "iopub.execute_input": "2024-03-20T14:48:35.642077Z",
     "iopub.status.busy": "2024-03-20T14:48:35.641657Z",
     "iopub.status.idle": "2024-03-20T14:48:35.648958Z",
     "shell.execute_reply": "2024-03-20T14:48:35.647659Z"
    },
    "papermill": {
     "duration": 0.02863,
     "end_time": "2024-03-20T14:48:35.651749",
     "exception": false,
     "start_time": "2024-03-20T14:48:35.623119",
     "status": "completed"
    },
    "tags": []
   },
   "outputs": [
    {
     "name": "stdout",
     "output_type": "stream",
     "text": [
      "Saksham\n",
      "[1, 2, 3]\n"
     ]
    }
   ],
   "source": [
    "name = 'Saksham'\n",
    "print(name)\n",
    "toji = [1, 2, 3]\n",
    "print(toji)\n",
    "#when there is no need to write / assign a data type \n",
    "# for eg here we are not specifying type \n",
    "# This is dynamic typing in python as compared to static in c++"
   ]
  },
  {
   "cell_type": "code",
   "execution_count": 15,
   "id": "a9edfdbd",
   "metadata": {
    "execution": {
     "iopub.execute_input": "2024-03-20T14:48:35.687399Z",
     "iopub.status.busy": "2024-03-20T14:48:35.686950Z",
     "iopub.status.idle": "2024-03-20T14:48:35.693753Z",
     "shell.execute_reply": "2024-03-20T14:48:35.692553Z"
    },
    "papermill": {
     "duration": 0.028353,
     "end_time": "2024-03-20T14:48:35.696875",
     "exception": false,
     "start_time": "2024-03-20T14:48:35.668522",
     "status": "completed"
    },
    "tags": []
   },
   "outputs": [
    {
     "name": "stdout",
     "output_type": "stream",
     "text": [
      "Saksham\n",
      "4\n",
      "True\n"
     ]
    }
   ],
   "source": [
    "name = 'Saksham'\n",
    "print(name)\n",
    "name = 4\n",
    "print(name)\n",
    "name = True\n",
    "print(name)\n",
    "# one variable is not binded to a single variable (data type of variable can be changed {dynamic binding})"
   ]
  },
  {
   "cell_type": "code",
   "execution_count": 16,
   "id": "ea46281b",
   "metadata": {
    "execution": {
     "iopub.execute_input": "2024-03-20T14:48:35.734284Z",
     "iopub.status.busy": "2024-03-20T14:48:35.733878Z",
     "iopub.status.idle": "2024-03-20T14:48:35.740329Z",
     "shell.execute_reply": "2024-03-20T14:48:35.738978Z"
    },
    "papermill": {
     "duration": 0.028506,
     "end_time": "2024-03-20T14:48:35.742790",
     "exception": false,
     "start_time": "2024-03-20T14:48:35.714284",
     "status": "completed"
    },
    "tags": []
   },
   "outputs": [
    {
     "name": "stdout",
     "output_type": "stream",
     "text": [
      "5 6 7\n"
     ]
    }
   ],
   "source": [
    "a = 5; b = 6; c = 7\n",
    "print(a, b, c)\n",
    "# to use varaibles in a single line"
   ]
  },
  {
   "cell_type": "code",
   "execution_count": 17,
   "id": "0db259f7",
   "metadata": {
    "execution": {
     "iopub.execute_input": "2024-03-20T14:48:35.779161Z",
     "iopub.status.busy": "2024-03-20T14:48:35.778718Z",
     "iopub.status.idle": "2024-03-20T14:48:35.784712Z",
     "shell.execute_reply": "2024-03-20T14:48:35.783485Z"
    },
    "papermill": {
     "duration": 0.027259,
     "end_time": "2024-03-20T14:48:35.787071",
     "exception": false,
     "start_time": "2024-03-20T14:48:35.759812",
     "status": "completed"
    },
    "tags": []
   },
   "outputs": [
    {
     "name": "stdout",
     "output_type": "stream",
     "text": [
      "6 5 4\n"
     ]
    }
   ],
   "source": [
    "a, b, c = 4, 5, 6\n",
    "print(c, b, a)"
   ]
  },
  {
   "cell_type": "code",
   "execution_count": 18,
   "id": "ad5635f9",
   "metadata": {
    "execution": {
     "iopub.execute_input": "2024-03-20T14:48:35.824279Z",
     "iopub.status.busy": "2024-03-20T14:48:35.823700Z",
     "iopub.status.idle": "2024-03-20T14:48:35.830303Z",
     "shell.execute_reply": "2024-03-20T14:48:35.829090Z"
    },
    "papermill": {
     "duration": 0.027769,
     "end_time": "2024-03-20T14:48:35.832565",
     "exception": false,
     "start_time": "2024-03-20T14:48:35.804796",
     "status": "completed"
    },
    "tags": []
   },
   "outputs": [
    {
     "name": "stdout",
     "output_type": "stream",
     "text": [
      "6 6 6\n"
     ]
    }
   ],
   "source": [
    "a = b = c = 6\n",
    "print(a, b, c)"
   ]
  },
  {
   "cell_type": "code",
   "execution_count": 19,
   "id": "cb382071",
   "metadata": {
    "execution": {
     "iopub.execute_input": "2024-03-20T14:48:35.869279Z",
     "iopub.status.busy": "2024-03-20T14:48:35.868875Z",
     "iopub.status.idle": "2024-03-20T14:48:35.876100Z",
     "shell.execute_reply": "2024-03-20T14:48:35.874212Z"
    },
    "papermill": {
     "duration": 0.02901,
     "end_time": "2024-03-20T14:48:35.878526",
     "exception": false,
     "start_time": "2024-03-20T14:48:35.849516",
     "status": "completed"
    },
    "tags": []
   },
   "outputs": [
    {
     "name": "stdout",
     "output_type": "stream",
     "text": [
      "['False', 'None', 'True', 'and', 'as', 'assert', 'async', 'await', 'break', 'class', 'continue', 'def', 'del', 'elif', 'else', 'except', 'finally', 'for', 'from', 'global', 'if', 'import', 'in', 'is', 'lambda', 'nonlocal', 'not', 'or', 'pass', 'raise', 'return', 'try', 'while', 'with', 'yield']\n"
     ]
    }
   ],
   "source": [
    "import keyword as k\n",
    "print(k.kwlist)"
   ]
  },
  {
   "cell_type": "code",
   "execution_count": 20,
   "id": "cb1b3726",
   "metadata": {
    "execution": {
     "iopub.execute_input": "2024-03-20T14:48:35.914146Z",
     "iopub.status.busy": "2024-03-20T14:48:35.913671Z",
     "iopub.status.idle": "2024-03-20T14:48:35.919509Z",
     "shell.execute_reply": "2024-03-20T14:48:35.918309Z"
    },
    "papermill": {
     "duration": 0.027057,
     "end_time": "2024-03-20T14:48:35.922340",
     "exception": false,
     "start_time": "2024-03-20T14:48:35.895283",
     "status": "completed"
    },
    "tags": []
   },
   "outputs": [
    {
     "name": "stdout",
     "output_type": "stream",
     "text": [
      "Saksham\n"
     ]
    }
   ],
   "source": [
    "name_xyz = \"Saksham\"\n",
    "print(name_xyz)"
   ]
  },
  {
   "cell_type": "code",
   "execution_count": 21,
   "id": "e1563414",
   "metadata": {
    "execution": {
     "iopub.execute_input": "2024-03-20T14:48:35.959774Z",
     "iopub.status.busy": "2024-03-20T14:48:35.958898Z",
     "iopub.status.idle": "2024-03-20T14:48:35.965418Z",
     "shell.execute_reply": "2024-03-20T14:48:35.964268Z"
    },
    "papermill": {
     "duration": 0.028453,
     "end_time": "2024-03-20T14:48:35.968365",
     "exception": false,
     "start_time": "2024-03-20T14:48:35.939912",
     "status": "completed"
    },
    "tags": []
   },
   "outputs": [],
   "source": [
    "# name = input('Enter you name boi: ')\n",
    "# print('You name is', name,  'hahahahah loser')"
   ]
  },
  {
   "cell_type": "code",
   "execution_count": 22,
   "id": "0673ac72",
   "metadata": {
    "execution": {
     "iopub.execute_input": "2024-03-20T14:48:36.064293Z",
     "iopub.status.busy": "2024-03-20T14:48:36.063086Z",
     "iopub.status.idle": "2024-03-20T14:48:36.067987Z",
     "shell.execute_reply": "2024-03-20T14:48:36.067024Z"
    },
    "papermill": {
     "duration": 0.025943,
     "end_time": "2024-03-20T14:48:36.070478",
     "exception": false,
     "start_time": "2024-03-20T14:48:36.044535",
     "status": "completed"
    },
    "tags": []
   },
   "outputs": [],
   "source": [
    "# val = input(prompt = 'Enter an integer')"
   ]
  },
  {
   "cell_type": "code",
   "execution_count": 23,
   "id": "9d12ac7f",
   "metadata": {
    "execution": {
     "iopub.execute_input": "2024-03-20T14:48:36.109279Z",
     "iopub.status.busy": "2024-03-20T14:48:36.108586Z",
     "iopub.status.idle": "2024-03-20T14:48:36.113034Z",
     "shell.execute_reply": "2024-03-20T14:48:36.112227Z"
    },
    "papermill": {
     "duration": 0.027051,
     "end_time": "2024-03-20T14:48:36.115255",
     "exception": false,
     "start_time": "2024-03-20T14:48:36.088204",
     "status": "completed"
    },
    "tags": []
   },
   "outputs": [],
   "source": [
    "# a = int(input('Enter first Number'))\n",
    "# b = int(input('Enter second number'))\n",
    "# print('Sum of two numbers is: ', a + b)"
   ]
  },
  {
   "cell_type": "code",
   "execution_count": 24,
   "id": "3e301162",
   "metadata": {
    "execution": {
     "iopub.execute_input": "2024-03-20T14:48:36.151189Z",
     "iopub.status.busy": "2024-03-20T14:48:36.150560Z",
     "iopub.status.idle": "2024-03-20T14:48:36.154646Z",
     "shell.execute_reply": "2024-03-20T14:48:36.153907Z"
    },
    "papermill": {
     "duration": 0.024472,
     "end_time": "2024-03-20T14:48:36.156817",
     "exception": false,
     "start_time": "2024-03-20T14:48:36.132345",
     "status": "completed"
    },
    "tags": []
   },
   "outputs": [],
   "source": [
    "# a, b = map(int, input().split())\n",
    "# print('Sum is: ', a + b)"
   ]
  },
  {
   "cell_type": "code",
   "execution_count": 25,
   "id": "0206f152",
   "metadata": {
    "execution": {
     "iopub.execute_input": "2024-03-20T14:48:36.192539Z",
     "iopub.status.busy": "2024-03-20T14:48:36.191969Z",
     "iopub.status.idle": "2024-03-20T14:48:36.196125Z",
     "shell.execute_reply": "2024-03-20T14:48:36.195361Z"
    },
    "papermill": {
     "duration": 0.02477,
     "end_time": "2024-03-20T14:48:36.198307",
     "exception": false,
     "start_time": "2024-03-20T14:48:36.173537",
     "status": "completed"
    },
    "tags": []
   },
   "outputs": [],
   "source": [
    "# a, b = map(int, input().split())\n",
    "# res = a + b\n",
    "# print('Result is: ', res)"
   ]
  },
  {
   "cell_type": "code",
   "execution_count": 26,
   "id": "913dd891",
   "metadata": {
    "execution": {
     "iopub.execute_input": "2024-03-20T14:48:36.233539Z",
     "iopub.status.busy": "2024-03-20T14:48:36.232949Z",
     "iopub.status.idle": "2024-03-20T14:48:36.237068Z",
     "shell.execute_reply": "2024-03-20T14:48:36.236239Z"
    },
    "papermill": {
     "duration": 0.024366,
     "end_time": "2024-03-20T14:48:36.239226",
     "exception": false,
     "start_time": "2024-03-20T14:48:36.214860",
     "status": "completed"
    },
    "tags": []
   },
   "outputs": [],
   "source": [
    "#type conversion\n",
    "#explicit\n",
    "#implicit"
   ]
  },
  {
   "cell_type": "code",
   "execution_count": 27,
   "id": "7200c6c4",
   "metadata": {
    "execution": {
     "iopub.execute_input": "2024-03-20T14:48:36.275182Z",
     "iopub.status.busy": "2024-03-20T14:48:36.274542Z",
     "iopub.status.idle": "2024-03-20T14:48:36.280518Z",
     "shell.execute_reply": "2024-03-20T14:48:36.279140Z"
    },
    "papermill": {
     "duration": 0.026589,
     "end_time": "2024-03-20T14:48:36.282590",
     "exception": false,
     "start_time": "2024-03-20T14:48:36.256001",
     "status": "completed"
    },
    "tags": []
   },
   "outputs": [
    {
     "name": "stdout",
     "output_type": "stream",
     "text": [
      "9.5\n"
     ]
    }
   ],
   "source": [
    "print(4 + 5.5) #python did type conversion on its own implicitly"
   ]
  },
  {
   "cell_type": "code",
   "execution_count": 28,
   "id": "bfb9b791",
   "metadata": {
    "execution": {
     "iopub.execute_input": "2024-03-20T14:48:36.318700Z",
     "iopub.status.busy": "2024-03-20T14:48:36.318057Z",
     "iopub.status.idle": "2024-03-20T14:48:36.324401Z",
     "shell.execute_reply": "2024-03-20T14:48:36.322871Z"
    },
    "papermill": {
     "duration": 0.027475,
     "end_time": "2024-03-20T14:48:36.326855",
     "exception": false,
     "start_time": "2024-03-20T14:48:36.299380",
     "status": "completed"
    },
    "tags": []
   },
   "outputs": [
    {
     "name": "stdout",
     "output_type": "stream",
     "text": [
      "(11+7j)\n"
     ]
    }
   ],
   "source": [
    "print(7 + 4 + 7j)"
   ]
  },
  {
   "cell_type": "code",
   "execution_count": 29,
   "id": "fd8fd6b1",
   "metadata": {
    "execution": {
     "iopub.execute_input": "2024-03-20T14:48:36.362808Z",
     "iopub.status.busy": "2024-03-20T14:48:36.362425Z",
     "iopub.status.idle": "2024-03-20T14:48:36.366970Z",
     "shell.execute_reply": "2024-03-20T14:48:36.365792Z"
    },
    "papermill": {
     "duration": 0.025515,
     "end_time": "2024-03-20T14:48:36.369393",
     "exception": false,
     "start_time": "2024-03-20T14:48:36.343878",
     "status": "completed"
    },
    "tags": []
   },
   "outputs": [],
   "source": [
    "# doing this explicitly by programmer\n",
    "# first_num = input()\n",
    "# second_num = input()"
   ]
  },
  {
   "cell_type": "code",
   "execution_count": 30,
   "id": "8ea87d4a",
   "metadata": {
    "execution": {
     "iopub.execute_input": "2024-03-20T14:48:36.405214Z",
     "iopub.status.busy": "2024-03-20T14:48:36.404860Z",
     "iopub.status.idle": "2024-03-20T14:48:36.409351Z",
     "shell.execute_reply": "2024-03-20T14:48:36.408055Z"
    },
    "papermill": {
     "duration": 0.025928,
     "end_time": "2024-03-20T14:48:36.412250",
     "exception": false,
     "start_time": "2024-03-20T14:48:36.386322",
     "status": "completed"
    },
    "tags": []
   },
   "outputs": [],
   "source": [
    "# result1 = first_num + second_num\n",
    "# print(result1)\n",
    "# result = int(first_num) + int(second_num)\n",
    "# print(result)\n"
   ]
  },
  {
   "cell_type": "code",
   "execution_count": 31,
   "id": "731e5d97",
   "metadata": {
    "execution": {
     "iopub.execute_input": "2024-03-20T14:48:36.450190Z",
     "iopub.status.busy": "2024-03-20T14:48:36.449395Z",
     "iopub.status.idle": "2024-03-20T14:48:36.456667Z",
     "shell.execute_reply": "2024-03-20T14:48:36.455940Z"
    },
    "papermill": {
     "duration": 0.028375,
     "end_time": "2024-03-20T14:48:36.458714",
     "exception": false,
     "start_time": "2024-03-20T14:48:36.430339",
     "status": "completed"
    },
    "tags": []
   },
   "outputs": [
    {
     "data": {
      "text/plain": [
       "['H', 'e', 'l', 'l', 'o']"
      ]
     },
     "execution_count": 31,
     "metadata": {},
     "output_type": "execute_result"
    }
   ],
   "source": [
    "list('Hello')"
   ]
  },
  {
   "cell_type": "code",
   "execution_count": 32,
   "id": "2613d745",
   "metadata": {
    "execution": {
     "iopub.execute_input": "2024-03-20T14:48:36.496082Z",
     "iopub.status.busy": "2024-03-20T14:48:36.495692Z",
     "iopub.status.idle": "2024-03-20T14:48:36.502138Z",
     "shell.execute_reply": "2024-03-20T14:48:36.500409Z"
    },
    "papermill": {
     "duration": 0.027754,
     "end_time": "2024-03-20T14:48:36.504580",
     "exception": false,
     "start_time": "2024-03-20T14:48:36.476826",
     "status": "completed"
    },
    "tags": []
   },
   "outputs": [
    {
     "name": "stdout",
     "output_type": "stream",
     "text": [
      "{'a', 's', 'h', 'm', 'k'}\n"
     ]
    }
   ],
   "source": [
    "print(set('saksham'))"
   ]
  },
  {
   "cell_type": "code",
   "execution_count": 33,
   "id": "fdaa2e14",
   "metadata": {
    "execution": {
     "iopub.execute_input": "2024-03-20T14:48:36.542826Z",
     "iopub.status.busy": "2024-03-20T14:48:36.542424Z",
     "iopub.status.idle": "2024-03-20T14:48:36.548280Z",
     "shell.execute_reply": "2024-03-20T14:48:36.547202Z"
    },
    "papermill": {
     "duration": 0.027288,
     "end_time": "2024-03-20T14:48:36.550356",
     "exception": false,
     "start_time": "2024-03-20T14:48:36.523068",
     "status": "completed"
    },
    "tags": []
   },
   "outputs": [
    {
     "name": "stdout",
     "output_type": "stream",
     "text": [
      "4##4\n",
      "4.5\n"
     ]
    }
   ],
   "source": [
    "#type conversion is not permanent\n",
    "a = 4.5\n",
    "b = int(a)\n",
    "print(int(a), b, sep = '##') #creates a new copy of original value\n",
    "print(a)"
   ]
  },
  {
   "cell_type": "code",
   "execution_count": 34,
   "id": "6cb51d25",
   "metadata": {
    "execution": {
     "iopub.execute_input": "2024-03-20T14:48:36.587500Z",
     "iopub.status.busy": "2024-03-20T14:48:36.587088Z",
     "iopub.status.idle": "2024-03-20T14:48:36.592711Z",
     "shell.execute_reply": "2024-03-20T14:48:36.591612Z"
    },
    "papermill": {
     "duration": 0.027025,
     "end_time": "2024-03-20T14:48:36.595078",
     "exception": false,
     "start_time": "2024-03-20T14:48:36.568053",
     "status": "completed"
    },
    "tags": []
   },
   "outputs": [
    {
     "name": "stdout",
     "output_type": "stream",
     "text": [
      "10\n"
     ]
    }
   ],
   "source": [
    "#literals\n",
    "# 1. Numeric Literal\n",
    "a = 10\n",
    "b = 100\n",
    "print(a)"
   ]
  },
  {
   "cell_type": "code",
   "execution_count": 35,
   "id": "f7f8b535",
   "metadata": {
    "execution": {
     "iopub.execute_input": "2024-03-20T14:48:36.634064Z",
     "iopub.status.busy": "2024-03-20T14:48:36.633652Z",
     "iopub.status.idle": "2024-03-20T14:48:36.639304Z",
     "shell.execute_reply": "2024-03-20T14:48:36.638075Z"
    },
    "papermill": {
     "duration": 0.028688,
     "end_time": "2024-03-20T14:48:36.642067",
     "exception": false,
     "start_time": "2024-03-20T14:48:36.613379",
     "status": "completed"
    },
    "tags": []
   },
   "outputs": [
    {
     "name": "stdout",
     "output_type": "stream",
     "text": [
      "10\n"
     ]
    }
   ],
   "source": [
    "#2. Binary Literal\n",
    "a = 0b1010 # programmer gives binary but pyton prints decimal\n",
    "print(a)"
   ]
  },
  {
   "cell_type": "code",
   "execution_count": 36,
   "id": "99d5359c",
   "metadata": {
    "execution": {
     "iopub.execute_input": "2024-03-20T14:48:36.681060Z",
     "iopub.status.busy": "2024-03-20T14:48:36.680668Z",
     "iopub.status.idle": "2024-03-20T14:48:36.686862Z",
     "shell.execute_reply": "2024-03-20T14:48:36.685487Z"
    },
    "papermill": {
     "duration": 0.028649,
     "end_time": "2024-03-20T14:48:36.689320",
     "exception": false,
     "start_time": "2024-03-20T14:48:36.660671",
     "status": "completed"
    },
    "tags": []
   },
   "outputs": [
    {
     "name": "stdout",
     "output_type": "stream",
     "text": [
      "10.5 100000.0 0.0015\n"
     ]
    }
   ],
   "source": [
    "#float literal\n",
    "x = 10.5\n",
    "y = 1e5\n",
    "z = 1.5e-3\n",
    "print(x, y, z)"
   ]
  },
  {
   "cell_type": "code",
   "execution_count": 37,
   "id": "cafba641",
   "metadata": {
    "execution": {
     "iopub.execute_input": "2024-03-20T14:48:36.728280Z",
     "iopub.status.busy": "2024-03-20T14:48:36.727854Z",
     "iopub.status.idle": "2024-03-20T14:48:36.734331Z",
     "shell.execute_reply": "2024-03-20T14:48:36.732657Z"
    },
    "papermill": {
     "duration": 0.02896,
     "end_time": "2024-03-20T14:48:36.736703",
     "exception": false,
     "start_time": "2024-03-20T14:48:36.707743",
     "status": "completed"
    },
    "tags": []
   },
   "outputs": [
    {
     "name": "stdout",
     "output_type": "stream",
     "text": [
      "4.16j 4.16 0.0\n"
     ]
    }
   ],
   "source": [
    "#img\n",
    "U = 4.16j\n",
    "print(U, U.imag, U.real)"
   ]
  },
  {
   "cell_type": "code",
   "execution_count": 38,
   "id": "455f256c",
   "metadata": {
    "execution": {
     "iopub.execute_input": "2024-03-20T14:48:36.775138Z",
     "iopub.status.busy": "2024-03-20T14:48:36.774718Z",
     "iopub.status.idle": "2024-03-20T14:48:36.780982Z",
     "shell.execute_reply": "2024-03-20T14:48:36.779565Z"
    },
    "papermill": {
     "duration": 0.028439,
     "end_time": "2024-03-20T14:48:36.783303",
     "exception": false,
     "start_time": "2024-03-20T14:48:36.754864",
     "status": "completed"
    },
    "tags": []
   },
   "outputs": [
    {
     "name": "stdout",
     "output_type": "stream",
     "text": [
      "Saksham negi is the best competitive programmer in the world (delusional he isnt even an expert yet)\n",
      "🤣\n"
     ]
    }
   ],
   "source": [
    "#string literal\n",
    "euler = 'Saksham negi is the best competitive programmer in the world (delusional he isnt even an expert yet)'\n",
    "code  =u\"\\U0001F923\"\n",
    "print(euler)\n",
    "print(code)"
   ]
  },
  {
   "cell_type": "code",
   "execution_count": 39,
   "id": "128c5ee5",
   "metadata": {
    "execution": {
     "iopub.execute_input": "2024-03-20T14:48:36.823871Z",
     "iopub.status.busy": "2024-03-20T14:48:36.823454Z",
     "iopub.status.idle": "2024-03-20T14:48:36.828130Z",
     "shell.execute_reply": "2024-03-20T14:48:36.827319Z"
    },
    "papermill": {
     "duration": 0.028098,
     "end_time": "2024-03-20T14:48:36.830446",
     "exception": false,
     "start_time": "2024-03-20T14:48:36.802348",
     "status": "completed"
    },
    "tags": []
   },
   "outputs": [
    {
     "name": "stdout",
     "output_type": "stream",
     "text": [
      "11\n"
     ]
    }
   ],
   "source": [
    "#boolean literal\n",
    "x = True + 10\n",
    "print(x)"
   ]
  },
  {
   "cell_type": "code",
   "execution_count": 40,
   "id": "51c182e7",
   "metadata": {
    "execution": {
     "iopub.execute_input": "2024-03-20T14:48:36.870297Z",
     "iopub.status.busy": "2024-03-20T14:48:36.869592Z",
     "iopub.status.idle": "2024-03-20T14:48:36.875334Z",
     "shell.execute_reply": "2024-03-20T14:48:36.873984Z"
    },
    "papermill": {
     "duration": 0.028353,
     "end_time": "2024-03-20T14:48:36.877523",
     "exception": false,
     "start_time": "2024-03-20T14:48:36.849170",
     "status": "completed"
    },
    "tags": []
   },
   "outputs": [
    {
     "name": "stdout",
     "output_type": "stream",
     "text": [
      "None\n"
     ]
    }
   ],
   "source": [
    "#special literal\n",
    "y = None\n",
    "print(y)"
   ]
  },
  {
   "cell_type": "code",
   "execution_count": 41,
   "id": "a486b384",
   "metadata": {
    "execution": {
     "iopub.execute_input": "2024-03-20T14:48:36.917405Z",
     "iopub.status.busy": "2024-03-20T14:48:36.916719Z",
     "iopub.status.idle": "2024-03-20T14:48:36.923201Z",
     "shell.execute_reply": "2024-03-20T14:48:36.921866Z"
    },
    "papermill": {
     "duration": 0.028904,
     "end_time": "2024-03-20T14:48:36.925340",
     "exception": false,
     "start_time": "2024-03-20T14:48:36.896436",
     "status": "completed"
    },
    "tags": []
   },
   "outputs": [
    {
     "name": "stdout",
     "output_type": "stream",
     "text": [
      "17 3 3 10000000 1.4285714285714286 1\n"
     ]
    }
   ],
   "source": [
    "# Operators\n",
    "x = 10\n",
    "y = 7\n",
    "print(x + y, x - y, x % y, x ** y, x / y, x // y)"
   ]
  },
  {
   "cell_type": "code",
   "execution_count": 42,
   "id": "34d50771",
   "metadata": {
    "execution": {
     "iopub.execute_input": "2024-03-20T14:48:36.965494Z",
     "iopub.status.busy": "2024-03-20T14:48:36.964708Z",
     "iopub.status.idle": "2024-03-20T14:48:36.970475Z",
     "shell.execute_reply": "2024-03-20T14:48:36.969524Z"
    },
    "papermill": {
     "duration": 0.028664,
     "end_time": "2024-03-20T14:48:36.973093",
     "exception": false,
     "start_time": "2024-03-20T14:48:36.944429",
     "status": "completed"
    },
    "tags": []
   },
   "outputs": [
    {
     "name": "stdout",
     "output_type": "stream",
     "text": [
      "True False True False False True\n"
     ]
    }
   ],
   "source": [
    "print(x > y, x < y, x >= y, x <= y, x == y, x!=y)"
   ]
  },
  {
   "cell_type": "code",
   "execution_count": 43,
   "id": "561adedf",
   "metadata": {
    "execution": {
     "iopub.execute_input": "2024-03-20T14:48:37.013407Z",
     "iopub.status.busy": "2024-03-20T14:48:37.013013Z",
     "iopub.status.idle": "2024-03-20T14:48:37.019338Z",
     "shell.execute_reply": "2024-03-20T14:48:37.018075Z"
    },
    "papermill": {
     "duration": 0.029919,
     "end_time": "2024-03-20T14:48:37.022136",
     "exception": false,
     "start_time": "2024-03-20T14:48:36.992217",
     "status": "completed"
    },
    "tags": []
   },
   "outputs": [
    {
     "name": "stdout",
     "output_type": "stream",
     "text": [
      "True False False True\n"
     ]
    }
   ],
   "source": [
    "# Logical Operators\n",
    "x = True\n",
    "y = False\n",
    "print(x or y, x and y, not x, not y)"
   ]
  },
  {
   "cell_type": "code",
   "execution_count": 44,
   "id": "65fa2bd8",
   "metadata": {
    "execution": {
     "iopub.execute_input": "2024-03-20T14:48:37.064023Z",
     "iopub.status.busy": "2024-03-20T14:48:37.063649Z",
     "iopub.status.idle": "2024-03-20T14:48:37.071617Z",
     "shell.execute_reply": "2024-03-20T14:48:37.070259Z"
    },
    "papermill": {
     "duration": 0.031389,
     "end_time": "2024-03-20T14:48:37.074213",
     "exception": false,
     "start_time": "2024-03-20T14:48:37.042824",
     "status": "completed"
    },
    "tags": []
   },
   "outputs": [
    {
     "name": "stdout",
     "output_type": "stream",
     "text": [
      "3 2 1\n",
      "7 4 7\n",
      "2\n",
      "8\n",
      "-5\n"
     ]
    }
   ],
   "source": [
    "x, y = 2, 3\n",
    "print(x | y, x & y, x ^ y)\n",
    "x, y, z = 4, 5, 6\n",
    "print(x | y | z, x & y & z, x ^ y ^ z)\n",
    "\n",
    "print(x >> 1)\n",
    "print(x << 1)\n",
    "print(~x) #basically -(x + 1) I am the best competitive programmer so it's of doing if(dp[i][j] != -1) in top-down just do if(!~dp[i][j])"
   ]
  },
  {
   "cell_type": "code",
   "execution_count": 45,
   "id": "d4793921",
   "metadata": {
    "execution": {
     "iopub.execute_input": "2024-03-20T14:48:37.115027Z",
     "iopub.status.busy": "2024-03-20T14:48:37.114655Z",
     "iopub.status.idle": "2024-03-20T14:48:37.121068Z",
     "shell.execute_reply": "2024-03-20T14:48:37.119564Z"
    },
    "papermill": {
     "duration": 0.030135,
     "end_time": "2024-03-20T14:48:37.123486",
     "exception": false,
     "start_time": "2024-03-20T14:48:37.093351",
     "status": "completed"
    },
    "tags": []
   },
   "outputs": [
    {
     "name": "stdout",
     "output_type": "stream",
     "text": [
      "6\n"
     ]
    }
   ],
   "source": [
    "a = 3\n",
    "a += 3\n",
    "print(a)\n"
   ]
  },
  {
   "cell_type": "code",
   "execution_count": 46,
   "id": "a0763641",
   "metadata": {
    "execution": {
     "iopub.execute_input": "2024-03-20T14:48:37.163556Z",
     "iopub.status.busy": "2024-03-20T14:48:37.163156Z",
     "iopub.status.idle": "2024-03-20T14:48:37.169768Z",
     "shell.execute_reply": "2024-03-20T14:48:37.168421Z"
    },
    "papermill": {
     "duration": 0.030293,
     "end_time": "2024-03-20T14:48:37.172811",
     "exception": false,
     "start_time": "2024-03-20T14:48:37.142518",
     "status": "completed"
    },
    "tags": []
   },
   "outputs": [
    {
     "name": "stdout",
     "output_type": "stream",
     "text": [
      "True\n"
     ]
    }
   ],
   "source": [
    "#identity operator\n",
    "#if two variables are at same memory location\n",
    "a, b = 3, 3\n",
    "print(a is b)"
   ]
  },
  {
   "cell_type": "code",
   "execution_count": 47,
   "id": "aec3c92c",
   "metadata": {
    "execution": {
     "iopub.execute_input": "2024-03-20T14:48:37.212288Z",
     "iopub.status.busy": "2024-03-20T14:48:37.211920Z",
     "iopub.status.idle": "2024-03-20T14:48:37.219269Z",
     "shell.execute_reply": "2024-03-20T14:48:37.217629Z"
    },
    "papermill": {
     "duration": 0.030001,
     "end_time": "2024-03-20T14:48:37.221715",
     "exception": false,
     "start_time": "2024-03-20T14:48:37.191714",
     "status": "completed"
    },
    "tags": []
   },
   "outputs": [
    {
     "name": "stdout",
     "output_type": "stream",
     "text": [
      "False\n"
     ]
    }
   ],
   "source": [
    "a = [1, 2, 3]\n",
    "b = [1, 2, 3]\n",
    "print(a is b)"
   ]
  },
  {
   "cell_type": "code",
   "execution_count": 48,
   "id": "7b8c5884",
   "metadata": {
    "execution": {
     "iopub.execute_input": "2024-03-20T14:48:37.261516Z",
     "iopub.status.busy": "2024-03-20T14:48:37.261064Z",
     "iopub.status.idle": "2024-03-20T14:48:37.267602Z",
     "shell.execute_reply": "2024-03-20T14:48:37.266295Z"
    },
    "papermill": {
     "duration": 0.02976,
     "end_time": "2024-03-20T14:48:37.270237",
     "exception": false,
     "start_time": "2024-03-20T14:48:37.240477",
     "status": "completed"
    },
    "tags": []
   },
   "outputs": [
    {
     "name": "stdout",
     "output_type": "stream",
     "text": [
      "True True\n"
     ]
    }
   ],
   "source": [
    "#member ship op\n",
    "s = 'Delhi'\n",
    "print('D' in s, 'Y' not in s)"
   ]
  },
  {
   "cell_type": "code",
   "execution_count": 49,
   "id": "20ace268",
   "metadata": {
    "execution": {
     "iopub.execute_input": "2024-03-20T14:48:37.310587Z",
     "iopub.status.busy": "2024-03-20T14:48:37.309764Z",
     "iopub.status.idle": "2024-03-20T14:48:37.314591Z",
     "shell.execute_reply": "2024-03-20T14:48:37.313109Z"
    },
    "papermill": {
     "duration": 0.029066,
     "end_time": "2024-03-20T14:48:37.318104",
     "exception": false,
     "start_time": "2024-03-20T14:48:37.289038",
     "status": "completed"
    },
    "tags": []
   },
   "outputs": [],
   "source": [
    "#if-else descision control\n"
   ]
  }
 ],
 "metadata": {
  "kaggle": {
   "accelerator": "none",
   "dataSources": [],
   "dockerImageVersionId": 30664,
   "isGpuEnabled": false,
   "isInternetEnabled": true,
   "language": "python",
   "sourceType": "notebook"
  },
  "kernelspec": {
   "display_name": "Python 3",
   "language": "python",
   "name": "python3"
  },
  "language_info": {
   "codemirror_mode": {
    "name": "ipython",
    "version": 3
   },
   "file_extension": ".py",
   "mimetype": "text/x-python",
   "name": "python",
   "nbconvert_exporter": "python",
   "pygments_lexer": "ipython3",
   "version": "3.10.13"
  },
  "papermill": {
   "default_parameters": {},
   "duration": 5.8654,
   "end_time": "2024-03-20T14:48:37.859298",
   "environment_variables": {},
   "exception": null,
   "input_path": "__notebook__.ipynb",
   "output_path": "__notebook__.ipynb",
   "parameters": {},
   "start_time": "2024-03-20T14:48:31.993898",
   "version": "2.5.0"
  }
 },
 "nbformat": 4,
 "nbformat_minor": 5
}
