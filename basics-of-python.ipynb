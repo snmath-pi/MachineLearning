{
 "cells": [
  {
   "cell_type": "code",
   "execution_count": 1,
   "id": "32568b32",
   "metadata": {
    "_cell_guid": "b1076dfc-b9ad-4769-8c92-a6c4dae69d19",
    "_uuid": "8f2839f25d086af736a60e9eeb907d3b93b6e0e5",
    "execution": {
     "iopub.execute_input": "2024-03-20T13:02:28.903443Z",
     "iopub.status.busy": "2024-03-20T13:02:28.902594Z",
     "iopub.status.idle": "2024-03-20T13:02:28.917450Z",
     "shell.execute_reply": "2024-03-20T13:02:28.915917Z"
    },
    "papermill": {
     "duration": 0.02311,
     "end_time": "2024-03-20T13:02:28.920456",
     "exception": false,
     "start_time": "2024-03-20T13:02:28.897346",
     "status": "completed"
    },
    "tags": []
   },
   "outputs": [
    {
     "name": "stdout",
     "output_type": "stream",
     "text": [
      "hello\n"
     ]
    }
   ],
   "source": [
    "print(\"hello\")"
   ]
  },
  {
   "cell_type": "code",
   "execution_count": 2,
   "id": "dc19ea53",
   "metadata": {
    "execution": {
     "iopub.execute_input": "2024-03-20T13:02:28.926725Z",
     "iopub.status.busy": "2024-03-20T13:02:28.926387Z",
     "iopub.status.idle": "2024-03-20T13:02:28.931481Z",
     "shell.execute_reply": "2024-03-20T13:02:28.930464Z"
    },
    "papermill": {
     "duration": 0.012074,
     "end_time": "2024-03-20T13:02:28.935126",
     "exception": false,
     "start_time": "2024-03-20T13:02:28.923052",
     "status": "completed"
    },
    "tags": []
   },
   "outputs": [
    {
     "name": "stdout",
     "output_type": "stream",
     "text": [
      "6 Hello\n"
     ]
    }
   ],
   "source": [
    "print(6, \"Hello\")"
   ]
  },
  {
   "cell_type": "code",
   "execution_count": 3,
   "id": "e43c12c5",
   "metadata": {
    "execution": {
     "iopub.execute_input": "2024-03-20T13:02:28.942795Z",
     "iopub.status.busy": "2024-03-20T13:02:28.942036Z",
     "iopub.status.idle": "2024-03-20T13:02:28.949019Z",
     "shell.execute_reply": "2024-03-20T13:02:28.947537Z"
    },
    "papermill": {
     "duration": 0.013507,
     "end_time": "2024-03-20T13:02:28.951537",
     "exception": false,
     "start_time": "2024-03-20T13:02:28.938030",
     "status": "completed"
    },
    "tags": []
   },
   "outputs": [
    {
     "name": "stdout",
     "output_type": "stream",
     "text": [
      "India China USA South Korea\n"
     ]
    }
   ],
   "source": [
    "print(\"India\", \"China\", \"USA\", \"South Korea\") # by default it's sep = ' ', end = '\\n'"
   ]
  }
 ],
 "metadata": {
  "kaggle": {
   "accelerator": "none",
   "dataSources": [],
   "dockerImageVersionId": 30664,
   "isGpuEnabled": false,
   "isInternetEnabled": true,
   "language": "python",
   "sourceType": "notebook"
  },
  "kernelspec": {
   "display_name": "Python 3",
   "language": "python",
   "name": "python3"
  },
  "language_info": {
   "codemirror_mode": {
    "name": "ipython",
    "version": 3
   },
   "file_extension": ".py",
   "mimetype": "text/x-python",
   "name": "python",
   "nbconvert_exporter": "python",
   "pygments_lexer": "ipython3",
   "version": "3.10.13"
  },
  "papermill": {
   "default_parameters": {},
   "duration": 3.332943,
   "end_time": "2024-03-20T13:02:29.278255",
   "environment_variables": {},
   "exception": null,
   "input_path": "__notebook__.ipynb",
   "output_path": "__notebook__.ipynb",
   "parameters": {},
   "start_time": "2024-03-20T13:02:25.945312",
   "version": "2.5.0"
  }
 },
 "nbformat": 4,
 "nbformat_minor": 5
}
